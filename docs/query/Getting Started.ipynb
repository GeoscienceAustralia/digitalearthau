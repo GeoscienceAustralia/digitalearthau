{
 "cells": [
  {
   "cell_type": "markdown",
   "metadata": {},
   "source": [
    "# Getting Started\n",
    "First we need to define how we display plots in our notebooks:"
   ]
  },
  {
   "cell_type": "code",
   "execution_count": 1,
   "metadata": {
    "collapsed": true
   },
   "outputs": [],
   "source": [
    "%matplotlib inline"
   ]
  },
  {
   "cell_type": "markdown",
   "metadata": {},
   "source": [
    "We use `pandas.DataFrame` objects to display our tables, so we will set some settings to tweak their formatting:"
   ]
  },
  {
   "cell_type": "code",
   "execution_count": 2,
   "metadata": {
    "collapsed": true
   },
   "outputs": [],
   "source": [
    "import pandas\n",
    "pandas.set_option('display.max_colwidth', 200)\n",
    "pandas.set_option('display.max_rows', None)"
   ]
  },
  {
   "cell_type": "markdown",
   "metadata": {},
   "source": [
    "Now we load the `datacube` library:"
   ]
  },
  {
   "cell_type": "code",
   "execution_count": 4,
   "metadata": {
    "collapsed": true
   },
   "outputs": [],
   "source": [
    "import datacube"
   ]
  },
  {
   "cell_type": "markdown",
   "metadata": {
    "collapsed": true
   },
   "source": [
    "Create our `datacube` object, with a name to help for logging."
   ]
  },
  {
   "cell_type": "code",
   "execution_count": 5,
   "metadata": {
    "collapsed": true
   },
   "outputs": [],
   "source": [
    "dc = datacube.Datacube(app='getting-started')"
   ]
  },
  {
   "cell_type": "markdown",
   "metadata": {},
   "source": [
    "By default, it will connect to the main Digital Earth environment at NCI:"
   ]
  },
  {
   "cell_type": "code",
   "execution_count": 6,
   "metadata": {},
   "outputs": [
    {
     "data": {
      "text/plain": [
       "Index<db=PostgresDb<engine=Engine(postgresql://adh547@130.56.244.105:6432/datacube)>>"
      ]
     },
     "execution_count": 6,
     "metadata": {},
     "output_type": "execute_result"
    }
   ],
   "source": [
    "dc.index"
   ]
  },
  {
   "cell_type": "markdown",
   "metadata": {},
   "source": [
    "Now we can query it. The main functions we can call are:\n",
    "\n",
    "| Method | Description | Example | API Docs |\n",
    "| --- | --- | --- | --- |\n",
    "| `dc.list_products()` | List the products in the datacube | [example](./List Products.ipynb) | [api docs](http://datacube-core.readthedocs.io/en/stable/dev/generate/datacube.Datacube.list_products.html)|\n",
    "| `dc.list_measurements()` | List the measurement bands for each product | [example](./List Products.ipynb) | [api docs](http://datacube-core.readthedocs.io/en/stable/dev/generate/datacube.Datacube.list_measurements.html)|\n",
    "| `dc.load()` | Retrive the data for a product, for a given area and time range | [example](./Loading Data.ipynb) | [api docs](http://datacube-core.readthedocs.io/en/stable/dev/generate/datacube.Datacube.load.html)|"
   ]
  }
 ],
 "metadata": {
  "kernelspec": {
   "display_name": "Python 3",
   "language": "python",
   "name": "python3"
  },
  "language_info": {
   "codemirror_mode": {
    "name": "ipython",
    "version": 3
   },
   "file_extension": ".py",
   "mimetype": "text/x-python",
   "name": "python",
   "nbconvert_exporter": "python",
   "pygments_lexer": "ipython3",
   "version": "3.6.1"
  }
 },
 "nbformat": 4,
 "nbformat_minor": 2
}
