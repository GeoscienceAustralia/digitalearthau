{
 "cells": [
  {
   "cell_type": "markdown",
   "metadata": {
    "extensions": {
     "jupyter_dashboards": {
      "version": 1,
      "views": {
       "grid_default": {
        "col": 0,
        "height": 4,
        "hidden": false,
        "row": 0,
        "width": 4
       },
       "report_default": {}
      }
     }
    }
   },
   "source": [
    "# DEA Code Functionality Examples "
   ]
  },
  {
   "cell_type": "markdown",
   "metadata": {
    "extensions": {
     "jupyter_dashboards": {
      "version": 1,
      "views": {
       "grid_default": {
        "col": 0,
        "height": 9,
        "hidden": false,
        "row": 4,
        "width": 12
       },
       "report_default": {}
      }
     }
    }
   },
   "source": [
    "## Summary\n",
    "\n",
    "A great deal of work has been done by AGDC partners to outline the key requirements and technical approach for the next version of the AGDC (Version 2). For example, the previous Technical Working Group held a workshop that resulted in a draft Preliminary Design Report that has subsequently been translated to the AGDC wiki ( http://datacube.org.au ). Similarly, prototype functionality has been built to test and verify key concepts for a range of components including the netCDF-4 based Storage Units that are managed under NCIfs NERDIP data management, publishing and general access to data protocols; a Generalised Data Framework (GDF) to access the multidimensional Storage Units; and the AGDC Analytic Engine adding support for interactive Exploratory Data Analysis (EDA).\n",
    "\n",
    "The following requirements for Version 2 have been mainly based off this thinking and documentation. It is important to note that these requirements are for the current development\n",
    "effort running through till June 30, 2016. They are designed to guide and define the next step in the development of the AGDC, not as the final destination.\n"
   ]
  },
  {
   "cell_type": "markdown",
   "metadata": {
    "extensions": {
     "jupyter_dashboards": {
      "version": 1,
      "views": {
       "grid_default": {
        "col": 4,
        "height": 4,
        "hidden": false,
        "row": 0,
        "width": 4
       },
       "report_default": {}
      }
     }
    }
   },
   "source": [
    "Approved Requirements for AGDC Version 2"
   ]
  },
  {
   "cell_type": "markdown",
   "metadata": {
    "extensions": {
     "jupyter_dashboards": {
      "version": 1,
      "views": {
       "grid_default": {
        "col": 8,
        "height": 4,
        "hidden": false,
        "row": 0,
        "width": 4
       },
       "report_default": {}
      }
     }
    }
   },
   "source": [
    "These requirements were formally approved by the AGDC Programme Board at its meeting on 10\n",
    "December, 2015."
   ]
  },
  {
   "cell_type": "markdown",
   "metadata": {
    "extensions": {
     "jupyter_dashboards": {
      "version": 1,
      "views": {
       "grid_default": {
        "col": 0,
        "height": 4,
        "hidden": false,
        "row": 13,
        "width": 4
       },
       "report_default": {}
      }
     }
    }
   },
   "source": [
    "## Patterns of Use:\n",
    "AGDC Version 2 will support the following patterns of use."
   ]
  },
  {
   "cell_type": "code",
   "execution_count": null,
   "metadata": {
    "collapsed": true,
    "extensions": {
     "jupyter_dashboards": {
      "version": 1,
      "views": {
       "grid_default": {
        "hidden": true
       },
       "report_default": {}
      }
     }
    }
   },
   "outputs": [],
   "source": [
    "%matplotlib inline\n",
    "from matplotlib import pyplot as plt\n",
    "import datacube\n",
    "from datacube.model import Range\n",
    "from datetime import datetime\n",
    "from datacube.utils import geometry\n",
    "from datacube.storage import masking\n",
    "from datacube.storage.masking import mask_invalid_data\n",
    "import pandas\n",
    "import xarray\n",
    "import numpy"
   ]
  },
  {
   "cell_type": "code",
   "execution_count": null,
   "metadata": {
    "collapsed": true,
    "extensions": {
     "jupyter_dashboards": {
      "version": 1,
      "views": {
       "grid_default": {
        "hidden": true
       },
       "report_default": {}
      }
     }
    }
   },
   "outputs": [],
   "source": [
    "import folium\n",
    "from IPython.display import display\n",
    "import geopandas\n",
    "from shapely.geometry import mapping\n",
    "from shapely.geometry import MultiPolygon\n",
    "import rasterio\n",
    "import shapely.geometry\n",
    "import shapely.ops\n",
    "from functools import partial\n",
    "import pyproj\n",
    "#from datacube.model import datacube.utils.geometry.CRS\n",
    "import time\n",
    "from dateutil import tz"
   ]
  },
  {
   "cell_type": "code",
   "execution_count": null,
   "metadata": {
    "collapsed": true
   },
   "outputs": [],
   "source": [
    "notebook_start_dt = datetime.now()"
   ]
  },
  {
   "cell_type": "code",
   "execution_count": null,
   "metadata": {
    "collapsed": true
   },
   "outputs": [],
   "source": [
    "dc = datacube.Datacube(app='requirements-met')"
   ]
  },
  {
   "cell_type": "code",
   "execution_count": null,
   "metadata": {
    "extensions": {
     "jupyter_dashboards": {
      "version": 1,
      "views": {
       "grid_default": {
        "col": 4,
        "height": 4,
        "hidden": false,
        "row": 13,
        "width": 4
       },
       "report_default": {}
      }
     }
    }
   },
   "outputs": [],
   "source": [
    "datacube.__version__"
   ]
  },
  {
   "cell_type": "code",
   "execution_count": null,
   "metadata": {},
   "outputs": [],
   "source": [
    "datacube.__path__"
   ]
  },
  {
   "cell_type": "code",
   "execution_count": null,
   "metadata": {},
   "outputs": [],
   "source": [
    "!module list"
   ]
  },
  {
   "cell_type": "code",
   "execution_count": null,
   "metadata": {},
   "outputs": [],
   "source": [
    "!datacube system check"
   ]
  },
  {
   "cell_type": "markdown",
   "metadata": {},
   "source": [
    "## Remote Datacube\n"
   ]
  },
  {
   "cell_type": "code",
   "execution_count": null,
   "metadata": {
    "collapsed": true
   },
   "outputs": [],
   "source": [
    "from datacube import Datacube\n",
    "remotedc = Datacube(config='/home/547/jps547/.aws_datacube.conf')"
   ]
  },
  {
   "cell_type": "code",
   "execution_count": null,
   "metadata": {
    "collapsed": true
   },
   "outputs": [],
   "source": [
    "from geopy.geocoders import Nominatim\n",
    "geolocator = Nominatim()\n",
    "location = geolocator.geocode(\"Launceston, Tasmania\")"
   ]
  },
  {
   "cell_type": "code",
   "execution_count": null,
   "metadata": {},
   "outputs": [],
   "source": [
    "location"
   ]
  },
  {
   "cell_type": "code",
   "execution_count": null,
   "metadata": {
    "scrolled": true
   },
   "outputs": [],
   "source": [
    "query = {\n",
    "    'lat': (-41.82, -41.81),\n",
    "    'lon': (146.71, 146.72),\n",
    "}\n",
    "\n",
    "wofs = remotedc.load(product='wofs_modified_albers', group_by='solar_day', **query)\n",
    "\n",
    "wofs.water.flags_definition\n",
    "pandas.DataFrame.from_dict(masking.get_flags_def(wofs), orient='index')"
   ]
  },
  {
   "cell_type": "code",
   "execution_count": null,
   "metadata": {
    "collapsed": true
   },
   "outputs": [],
   "source": [
    "# Throughout this doc we use print() manually rather than returning the object as an output.\n",
    "# This is to minimise memory usage: avoid storing a reference to the data array itself in Jupyter's output history."
   ]
  },
  {
   "cell_type": "code",
   "execution_count": null,
   "metadata": {
    "scrolled": true
   },
   "outputs": [],
   "source": [
    "print(wofs)"
   ]
  },
  {
   "cell_type": "code",
   "execution_count": null,
   "metadata": {
    "scrolled": true
   },
   "outputs": [],
   "source": [
    "wofs.water.plot(col='time', col_wrap=5, robust=True)"
   ]
  },
  {
   "cell_type": "code",
   "execution_count": null,
   "metadata": {},
   "outputs": [],
   "source": [
    "remotedc.list_products()"
   ]
  },
  {
   "cell_type": "code",
   "execution_count": null,
   "metadata": {},
   "outputs": [],
   "source": [
    "water = masking.make_mask(wofs, result='clear_wet')\n",
    "\n",
    "water.water.plot(col='time', col_wrap=5, robust=True, cmap='gray')"
   ]
  },
  {
   "cell_type": "code",
   "execution_count": null,
   "metadata": {},
   "outputs": [],
   "source": [
    "water.water.sum('time').plot()"
   ]
  },
  {
   "cell_type": "code",
   "execution_count": null,
   "metadata": {
    "collapsed": true
   },
   "outputs": [],
   "source": [
    "results = remotedc.index.datasets.search_eager(product='wofs_modified_albers')"
   ]
  },
  {
   "cell_type": "code",
   "execution_count": null,
   "metadata": {},
   "outputs": [],
   "source": [
    "len(results)"
   ]
  },
  {
   "cell_type": "code",
   "execution_count": null,
   "metadata": {},
   "outputs": [],
   "source": [
    "results[0].metadata_doc"
   ]
  },
  {
   "cell_type": "code",
   "execution_count": null,
   "metadata": {
    "collapsed": true
   },
   "outputs": [],
   "source": [
    "results = None\n",
    "water = None\n",
    "wofs = None"
   ]
  },
  {
   "cell_type": "markdown",
   "metadata": {},
   "source": [
    "## Test for native projection query on non standard rainfall product"
   ]
  },
  {
   "cell_type": "code",
   "execution_count": null,
   "metadata": {
    "collapsed": true
   },
   "outputs": [],
   "source": [
    "query = {\n",
    "    'product': 'bom_rainfall_grids',\n",
    "    'crs': 'EPSG:3577',\n",
    "    'time': ('1987-10-01', '1990-10-01'),\n",
    "    'x': (349388.9787330463, 358497.9246628304),\n",
    "    'y': (-2379960.5883129314, -2375926.544118764),\n",
    "    'output_crs': 'EPSG:3577', \n",
    "    'resolution': (-25, 25),\n",
    "    'resampling': 'cubic',\n",
    "}\n",
    "\n",
    "rainfall_projected = dc.load(**query)"
   ]
  },
  {
   "cell_type": "code",
   "execution_count": null,
   "metadata": {},
   "outputs": [],
   "source": [
    "print(rainfall_projected)"
   ]
  },
  {
   "cell_type": "code",
   "execution_count": null,
   "metadata": {
    "collapsed": true
   },
   "outputs": [],
   "source": [
    "rainfall_projected = None"
   ]
  },
  {
   "cell_type": "markdown",
   "metadata": {},
   "source": [
    "## Search for dataset by location example"
   ]
  },
  {
   "cell_type": "code",
   "execution_count": null,
   "metadata": {},
   "outputs": [],
   "source": [
    "# Was replaced by stacked file\n",
    "# ds_uri = 'file:///g/data/rs0/datacube/002/LS5_TM_NBART/-7_-30/LS5_TM_NBART_3577_-7_-30_20030711011529000000_v1488078639.nc'\n",
    "\n",
    "ds_uri = 'file:///g/data/rs0/datacube/002/LS5_TM_NBAR/13_-35/LS5_TM_NBAR_3577_13_-35_2009_v1496827052.nc'\n",
    "datasets_in_stack = list(dc.index.datasets.get_datasets_for_location(uri=ds_uri))\n",
    "\n",
    "# If restacked, there will be a newer file (with higher vXXX version suffix)\n",
    "# So this one shouldn't change:\n",
    "assert len(datasets_in_stack) == 74\n",
    "assert set(d.type.name for d in datasets_in_stack) == {'ls5_nbar_albers'}\n",
    "print(repr(datasets_in_stack[0]))\n",
    "\n",
    "datasets_in_stack = None"
   ]
  },
  {
   "cell_type": "code",
   "execution_count": null,
   "metadata": {
    "collapsed": true,
    "extensions": {
     "jupyter_dashboards": {
      "version": 1,
      "views": {
       "grid_default": {
        "hidden": true
       },
       "report_default": {}
      }
     }
    }
   },
   "outputs": [],
   "source": [
    "def chop_to_globe(geom):\n",
    "    to_crs = geometry.CRS(\"EPSG:4326\")\n",
    "    left_of_dt = geometry.line(\n",
    "        [\n",
    "            (180 - 1.0e-8, -90), \n",
    "            (180 - 1.0e-8, 90)\n",
    "        ], \n",
    "        crs=to_crs\n",
    "    ).to_crs(geom.crs)\n",
    "    \n",
    "    right_of_dt = geometry.line(\n",
    "        [\n",
    "            (-180 + 1.0e-8, 90), \n",
    "            (-180 + 1.0e-8, -90)\n",
    "        ], \n",
    "        crs=to_crs\n",
    "    ).to_crs(geom.crs)\n",
    "\n",
    "    chopper = geometry.polygon(\n",
    "        left_of_dt.points + right_of_dt.points + [left_of_dt.points[0]], \n",
    "        crs=geom.crs\n",
    "    )\n",
    "    return geom.intersection(chopper)\n",
    "\n",
    "def datasets_union_clip180(dss):\n",
    "    thing = geometry.unary_union(ds.extent for ds in dss)\n",
    "    return chop_to_globe(thing).to_crs(geometry.CRS('EPSG:4326'))"
   ]
  },
  {
   "cell_type": "code",
   "execution_count": null,
   "metadata": {
    "collapsed": true,
    "extensions": {
     "jupyter_dashboards": {
      "version": 1,
      "views": {
       "grid_default": {
        "hidden": true
       },
       "report_default": {}
      }
     }
    }
   },
   "outputs": [],
   "source": [
    "def datasets_union(dss):\n",
    "    thing = geometry.unary_union(ds.extent for ds in dss)\n",
    "    print(thing.crs)\n",
    "    return thing.to_crs(geometry.CRS('EPSG:4326'))"
   ]
  },
  {
   "cell_type": "code",
   "execution_count": null,
   "metadata": {
    "collapsed": true,
    "extensions": {
     "jupyter_dashboards": {
      "version": 1,
      "views": {
       "grid_default": {
        "hidden": true
       },
       "report_default": {}
      }
     }
    }
   },
   "outputs": [],
   "source": [
    "import random\n",
    "def plot_folium(shapes):\n",
    "\n",
    "    mapa = folium.Map(location=[-30,150], zoom_start=4)\n",
    "    colors=['#00ff00', '#ff0000', '#00ffff', '#ffffff', '#000000', '#ff00ff']\n",
    "    for shape in shapes:\n",
    "        style_function = lambda x: {'fillColor': '#000000' if x['type'] == 'Polygon' else '#00ff00', \n",
    "                                    'color' : random.choice(colors)}\n",
    "        poly = folium.features.GeoJson(mapping(shape), style_function=style_function)\n",
    "        mapa.add_child(poly)\n",
    "    display(mapa)"
   ]
  },
  {
   "cell_type": "code",
   "execution_count": null,
   "metadata": {
    "collapsed": true,
    "extensions": {
     "jupyter_dashboards": {
      "version": 1,
      "views": {
       "grid_default": {
        "hidden": true
       },
       "report_default": {}
      }
     }
    }
   },
   "outputs": [],
   "source": [
    "def plot_rgb(image, fake_saturation):\n",
    "    image = mask_invalid_data(image)\n",
    "    rgb = image.to_array(dim='color')\n",
    "    rgb = rgb.transpose(*(rgb.dims[1:] + rgb.dims[:1]))  # make 'color' the last dimension\n",
    "    rgb = rgb.where((rgb <= fake_saturation).all(dim='color'))  # mask out pixels where any band is 'saturated'\n",
    "    rgb /= fake_saturation  # scale to [0, 1] range for imshow\n",
    "\n",
    "    rgb.plot.imshow(\n",
    "        x=image.crs.dimensions[1], \n",
    "        y=image.crs.dimensions[0],\n",
    "        col='time', \n",
    "        col_wrap=5, \n",
    "        add_colorbar=False\n",
    "    )"
   ]
  },
  {
   "cell_type": "markdown",
   "metadata": {},
   "source": [
    "## Plot WOfS"
   ]
  },
  {
   "cell_type": "code",
   "execution_count": null,
   "metadata": {},
   "outputs": [],
   "source": [
    "plot_folium([\n",
    "    datasets_union(\n",
    "        remotedc.index.datasets.search_eager(product='ls7_wofs_pq_scene', )\n",
    "    )\n",
    "])"
   ]
  },
  {
   "cell_type": "markdown",
   "metadata": {
    "extensions": {
     "jupyter_dashboards": {
      "version": 1,
      "views": {
       "grid_default": {
        "col": 8,
        "height": 4,
        "hidden": false,
        "row": 17,
        "width": 4
       },
       "report_default": {}
      }
     }
    }
   },
   "source": [
    "## GQA based search"
   ]
  },
  {
   "cell_type": "code",
   "execution_count": null,
   "metadata": {
    "collapsed": true,
    "extensions": {
     "jupyter_dashboards": {
      "version": 1,
      "views": {
       "grid_default": {
        "hidden": true
       },
       "report_default": {}
      }
     }
    }
   },
   "outputs": [],
   "source": [
    "# Get NBAR where source level1 matches a certain quality\n",
    "\n",
    "source_filter = dict(product='ls8_level1_scene', gqa_cep90=(-0.25, 0.25))\n",
    "\n",
    "query = datacube.api.query.Query(\n",
    "    product='ls8_nbar_albers', \n",
    "    time=('2015-01-01', '2015-02-01'), \n",
    "    source_filter=source_filter\n",
    ")\n",
    "data = dc.index.datasets.search_eager(**query.search_terms)"
   ]
  },
  {
   "cell_type": "code",
   "execution_count": null,
   "metadata": {
    "extensions": {
     "jupyter_dashboards": {
      "version": 1,
      "views": {
       "grid_default": {
        "col": 4,
        "height": 12,
        "hidden": false,
        "row": 21,
        "width": 4
       },
       "report_default": {}
      }
     }
    }
   },
   "outputs": [],
   "source": [
    "len(data)"
   ]
  },
  {
   "cell_type": "code",
   "execution_count": null,
   "metadata": {},
   "outputs": [],
   "source": [
    "data[0]"
   ]
  },
  {
   "cell_type": "markdown",
   "metadata": {
    "extensions": {
     "jupyter_dashboards": {
      "version": 1,
      "views": {
       "grid_default": {
        "col": 8,
        "height": 4,
        "hidden": false,
        "row": 21,
        "width": 4
       },
       "report_default": {}
      }
     }
    }
   },
   "source": [
    "## Confirm Dashboard Works"
   ]
  },
  {
   "cell_type": "code",
   "execution_count": null,
   "metadata": {
    "collapsed": true,
    "extensions": {
     "jupyter_dashboards": {
      "version": 1,
      "views": {
       "grid_default": {
        "col": 0,
        "height": 4,
        "hidden": false,
        "row": 25,
        "width": 4
       },
       "report_default": {}
      }
     }
    }
   },
   "outputs": [],
   "source": [
    "# Dashboard view of current production status per product with Spatial, Tabular and Reference views\n",
    "#!/g/data/v10/public/run-dash.sh\n",
    "#!firefox http://127.0.0.1:8080/"
   ]
  },
  {
   "cell_type": "markdown",
   "metadata": {
    "extensions": {
     "jupyter_dashboards": {
      "version": 1,
      "views": {
       "grid_default": {
        "col": 8,
        "height": 4,
        "hidden": false,
        "row": 25,
        "width": 4
       },
       "report_default": {}
      }
     }
    }
   },
   "source": [
    "## Search with sources"
   ]
  },
  {
   "cell_type": "code",
   "execution_count": null,
   "metadata": {
    "extensions": {
     "jupyter_dashboards": {
      "version": 1,
      "views": {
       "grid_default": {
        "col": 0,
        "height": 15,
        "hidden": false,
        "row": 29,
        "width": 4
       },
       "report_default": {}
      }
     }
    }
   },
   "outputs": [],
   "source": [
    "(\n",
    "     dc.index.datasets.get('11228944-42f6-4b9f-a434-73e0c7f9bde2', include_sources=True)\n",
    ").metadata_doc['lineage']['source_datasets']['0']['lineage']['source_datasets']['level1']['gqa']"
   ]
  },
  {
   "cell_type": "markdown",
   "metadata": {
    "extensions": {
     "jupyter_dashboards": {
      "version": 1,
      "views": {
       "grid_default": {
        "col": 8,
        "height": 4,
        "hidden": false,
        "row": 29,
        "width": 4
       },
       "report_default": {}
      }
     }
    }
   },
   "source": [
    "## Refine search using sources"
   ]
  },
  {
   "cell_type": "code",
   "execution_count": null,
   "metadata": {
    "extensions": {
     "jupyter_dashboards": {
      "version": 1,
      "views": {
       "grid_default": {
        "col": 4,
        "height": 4,
        "hidden": false,
        "row": 33,
        "width": 4
       },
       "report_default": {}
      }
     }
    }
   },
   "outputs": [],
   "source": [
    "from datacube.model import Range\n",
    "results=[]\n",
    "for product in ['ls5_level1_scene']:\n",
    "    results.append(dc.index.datasets.search_eager(\n",
    "        product=product,\n",
    "        sat_path = Range(91,92),\n",
    "        sat_row = Range(88,90),\n",
    "    ))\n",
    "print(len(results))\n",
    "print(str(results[0][0].local_path))"
   ]
  },
  {
   "cell_type": "code",
   "execution_count": null,
   "metadata": {},
   "outputs": [],
   "source": [
    "from datacube.model import Range\n",
    "time_range = Range(datetime(2013, 10, 1), datetime(2014, 1, 1))\n",
    "results = dc.index.datasets.search_eager(\n",
    "    product='ls8_nbar_albers',\n",
    "    time=time_range,\n",
    "    source_filter=dict(\n",
    "        product='ls8_level1_scene',\n",
    "        sat_path = Range(87,116),\n",
    "        sat_row = Range(67,91),\n",
    "    )\n",
    ")\n",
    "print(len(results))\n",
    "print(results[0])"
   ]
  },
  {
   "cell_type": "code",
   "execution_count": null,
   "metadata": {
    "extensions": {
     "jupyter_dashboards": {
      "version": 1,
      "views": {
       "grid_default": {
        "col": 8,
        "height": 40,
        "hidden": false,
        "row": 33,
        "width": 4
       },
       "report_default": {}
      }
     }
    }
   },
   "outputs": [],
   "source": [
    "results[0].metadata_doc"
   ]
  },
  {
   "cell_type": "code",
   "execution_count": null,
   "metadata": {
    "collapsed": true
   },
   "outputs": [],
   "source": [
    "results = None"
   ]
  },
  {
   "cell_type": "markdown",
   "metadata": {
    "extensions": {
     "jupyter_dashboards": {
      "version": 1,
      "views": {
       "grid_default": {
        "col": 4,
        "height": 4,
        "hidden": false,
        "row": 37,
        "width": 4
       },
       "report_default": {}
      }
     }
    }
   },
   "source": [
    "## Grid Cell count of timeslices"
   ]
  },
  {
   "cell_type": "code",
   "execution_count": null,
   "metadata": {
    "extensions": {
     "jupyter_dashboards": {
      "version": 1,
      "views": {
       "grid_default": {
        "col": 4,
        "height": 12,
        "hidden": false,
        "row": 41,
        "width": 4
       },
       "report_default": {}
      }
     }
    }
   },
   "outputs": [],
   "source": [
    "product = 'ls8_nbar_albers'\n",
    "\n",
    "gw = datacube.api.GridWorkflow(dc.index, product=product)\n",
    "cells = gw.list_cells(product=product, time=('2016-01-01', '2017-01-01'))\n",
    "\n",
    "for idx, data in cells.items():\n",
    "    print(idx, data.shape[0])\n",
    "    \n",
    "cells = None"
   ]
  },
  {
   "cell_type": "markdown",
   "metadata": {
    "extensions": {
     "jupyter_dashboards": {
      "version": 1,
      "views": {
       "grid_default": {
        "col": 0,
        "height": 4,
        "hidden": false,
        "row": 44,
        "width": 4
       },
       "report_default": {}
      }
     }
    }
   },
   "source": [
    "## Query products by time range - return count"
   ]
  },
  {
   "cell_type": "markdown",
   "metadata": {},
   "source": [
    "### Count for single query"
   ]
  },
  {
   "cell_type": "code",
   "execution_count": null,
   "metadata": {},
   "outputs": [],
   "source": [
    "# Count of single query\n",
    "product = 'ls7_nbar_scene'\n",
    "start_time = time.time()\n",
    "count = dc.index.datasets.count(\n",
    "    product=product, \n",
    "    time=Range(datetime(2000, 1, 1), datetime(2001, 1, 1))\n",
    ")\n",
    "print(\"Single product {} count of {} in {} seconds ---\".format(product, count, time.time() - start_time))"
   ]
  },
  {
   "cell_type": "markdown",
   "metadata": {},
   "source": [
    "### Count products through time"
   ]
  },
  {
   "cell_type": "code",
   "execution_count": null,
   "metadata": {
    "extensions": {
     "jupyter_dashboards": {
      "version": 1,
      "views": {
       "grid_default": {
        "col": 0,
        "height": 810,
        "hidden": false,
        "row": 48,
        "width": 4
       },
       "report_default": {}
      }
     }
    },
    "scrolled": true
   },
   "outputs": [],
   "source": [
    "start_time = time.time()\n",
    "\n",
    "results = dc.index.datasets.count_by_product_through_time(\n",
    "    '1 year',\n",
    "    platform='LANDSAT_7',\n",
    "    time=Range(\n",
    "        datetime(2000, 1, 1),\n",
    "        datetime(2003, 1, 1), #, tzinfo=tz.tzutc()),\n",
    "    )\n",
    ")\n",
    "\n",
    "start_product_time = time.time()\n",
    "for product, series in results:\n",
    "    print('{}: {} seconds'.format(product.name, time.time() - start_product_time))\n",
    "    for timerange, count in series:\n",
    "        print('\\t{}: {}'.format(timerange[0], count))\n",
    "    start_product_time = time.time()\n",
    "\n",
    "print(\"--- %s seconds ---\" % (time.time() - start_time))\n"
   ]
  },
  {
   "cell_type": "markdown",
   "metadata": {
    "extensions": {
     "jupyter_dashboards": {
      "version": 1,
      "views": {
       "grid_default": {
        "col": 4,
        "height": 4,
        "hidden": false,
        "row": 53,
        "width": 4
       },
       "report_default": {}
      }
     }
    }
   },
   "source": [
    "## Data load examples"
   ]
  },
  {
   "cell_type": "code",
   "execution_count": null,
   "metadata": {
    "extensions": {
     "jupyter_dashboards": {
      "version": 1,
      "views": {
       "grid_default": {
        "col": 0,
        "height": 12,
        "hidden": false,
        "row": 858,
        "width": 12
       },
       "report_default": {}
      }
     }
    }
   },
   "outputs": [],
   "source": [
    "dc.list_measurements()"
   ]
  },
  {
   "cell_type": "markdown",
   "metadata": {
    "extensions": {
     "jupyter_dashboards": {
      "version": 1,
      "views": {
       "grid_default": {
        "col": 4,
        "height": 4,
        "hidden": false,
        "row": 57,
        "width": 4
       },
       "report_default": {}
      }
     }
    }
   },
   "source": [
    "## Load SRTM"
   ]
  },
  {
   "cell_type": "code",
   "execution_count": null,
   "metadata": {
    "collapsed": true,
    "extensions": {
     "jupyter_dashboards": {
      "version": 1,
      "views": {
       "grid_default": {
        "hidden": true
       },
       "report_default": {}
      }
     }
    }
   },
   "outputs": [],
   "source": [
    "query = {\n",
    "    'lat': (-20.61, -20.66),\n",
    "    'lon': (147.0, 147.05)\n",
    "}\n",
    "\n",
    "srtm_dem1sv1_0 = dc.load(product='srtm_dem1sv1_0', **query)"
   ]
  },
  {
   "cell_type": "code",
   "execution_count": null,
   "metadata": {
    "extensions": {
     "jupyter_dashboards": {
      "version": 1,
      "views": {
       "grid_default": {
        "col": 4,
        "height": 11,
        "hidden": false,
        "row": 61,
        "width": 4
       },
       "report_default": {}
      }
     }
    }
   },
   "outputs": [],
   "source": [
    "srtm_dem1sv1_0.dem.plot()"
   ]
  },
  {
   "cell_type": "code",
   "execution_count": null,
   "metadata": {
    "collapsed": true
   },
   "outputs": [],
   "source": [
    "srtm_dem1sv1_0 = None"
   ]
  },
  {
   "cell_type": "markdown",
   "metadata": {
    "extensions": {
     "jupyter_dashboards": {
      "version": 1,
      "views": {
       "grid_default": {
        "col": 4,
        "height": 4,
        "hidden": false,
        "row": 72,
        "width": 4
       },
       "report_default": {}
      }
     }
    }
   },
   "source": [
    "## Load Radiometrics"
   ]
  },
  {
   "cell_type": "code",
   "execution_count": null,
   "metadata": {
    "extensions": {
     "jupyter_dashboards": {
      "version": 1,
      "views": {
       "grid_default": {
        "hidden": true
       },
       "report_default": {}
      }
     }
    }
   },
   "outputs": [],
   "source": [
    "query = {\n",
    "    'lat': (-20.61, -20.66),\n",
    "    'lon': (147.0, 147.05),\n",
    "    'measurements':['rad_k_equiv_conc_filtered','rad_th_equiv_conc_filtered','rad_u_equiv_conc_filtered']\n",
    "}\n",
    "\n",
    "# Gamma ray no longer available at indexed location?\n",
    "try:\n",
    "    radiometrics = dc.load(product='gamma_ray', **query)\n",
    "    \n",
    "    # Previously: array(3.2456936836242676)\n",
    "    print(radiometrics.rad_u_equiv_conc_filtered.max())\n",
    "    \n",
    "    \n",
    "    print(radiometrics)\n",
    "    plot_rgb(radiometrics, 20)\n",
    "    \n",
    "except Exception as e:\n",
    "    print(repr(e))\n",
    "    \n",
    "    \n",
    "    \n"
   ]
  },
  {
   "cell_type": "code",
   "execution_count": null,
   "metadata": {
    "collapsed": true
   },
   "outputs": [],
   "source": [
    "radiometrics = None"
   ]
  },
  {
   "cell_type": "markdown",
   "metadata": {
    "extensions": {
     "jupyter_dashboards": {
      "version": 1,
      "views": {
       "grid_default": {
        "col": 8,
        "height": 4,
        "hidden": false,
        "row": 85,
        "width": 4
       },
       "report_default": {}
      }
     }
    }
   },
   "source": [
    "## Load NBAR"
   ]
  },
  {
   "cell_type": "code",
   "execution_count": null,
   "metadata": {
    "collapsed": true,
    "extensions": {
     "jupyter_dashboards": {
      "version": 1,
      "views": {
       "grid_default": {
        "hidden": true
       },
       "report_default": {}
      }
     }
    }
   },
   "outputs": [],
   "source": [
    "nbar = dc.load(\n",
    "    product='ls5_nbart_albers', \n",
    "    y=(-18.7896944682,-18.7896944684), \n",
    "    x=(146.073501475,146.073501476)\n",
    ")"
   ]
  },
  {
   "cell_type": "code",
   "execution_count": null,
   "metadata": {
    "extensions": {
     "jupyter_dashboards": {
      "version": 1,
      "views": {
       "grid_default": {
        "col": 8,
        "height": 14,
        "hidden": false,
        "row": 89,
        "width": 4
       },
       "report_default": {}
      }
     }
    }
   },
   "outputs": [],
   "source": [
    "print(nbar)"
   ]
  },
  {
   "cell_type": "code",
   "execution_count": null,
   "metadata": {
    "collapsed": true
   },
   "outputs": [],
   "source": [
    "nbar = None"
   ]
  },
  {
   "cell_type": "markdown",
   "metadata": {
    "extensions": {
     "jupyter_dashboards": {
      "version": 1,
      "views": {
       "grid_default": {
        "col": 4,
        "height": 4,
        "hidden": false,
        "row": 90,
        "width": 4
       },
       "report_default": {}
      }
     }
    }
   },
   "source": [
    "## MODIS Landsat time series"
   ]
  },
  {
   "cell_type": "code",
   "execution_count": null,
   "metadata": {
    "collapsed": true,
    "extensions": {
     "jupyter_dashboards": {
      "version": 1,
      "views": {
       "grid_default": {
        "hidden": true
       },
       "report_default": {}
      }
     }
    }
   },
   "outputs": [],
   "source": [
    "modis = dc.load(\n",
    "    product='modis_mcd43a4_tile', \n",
    "    longitude=132.1,\n",
    "    latitude=-27.5, \n",
    "    time=('2000-1-1', '2000-5-1'), \n",
    "    resolution=(-500,500), \n",
    "    # measurements=('Nadir_Reflectance_Band1','Nadir_Reflectance_Band4','Nadir_Reflectance_Band3'),\n",
    ")"
   ]
  },
  {
   "cell_type": "code",
   "execution_count": null,
   "metadata": {
    "extensions": {
     "jupyter_dashboards": {
      "version": 1,
      "views": {
       "grid_default": {
        "col": 4,
        "height": 4,
        "hidden": false,
        "row": 94,
        "width": 4
       },
       "report_default": {}
      }
     }
    }
   },
   "outputs": [],
   "source": [
    "# Josh archived all of this product.\n",
    "#modis.Nadir_Reflectance_Band1.min()\n",
    "assert len(modis) == 0\n",
    "\n",
    "print(modis)"
   ]
  },
  {
   "cell_type": "code",
   "execution_count": null,
   "metadata": {
    "collapsed": true
   },
   "outputs": [],
   "source": [
    "modis = None"
   ]
  },
  {
   "cell_type": "markdown",
   "metadata": {
    "extensions": {
     "jupyter_dashboards": {
      "version": 1,
      "views": {
       "grid_default": {
        "col": 4,
        "height": 4,
        "hidden": false,
        "row": 98,
        "width": 4
       },
       "report_default": {}
      }
     }
    }
   },
   "source": [
    "## Load rainfall"
   ]
  },
  {
   "cell_type": "code",
   "execution_count": null,
   "metadata": {
    "collapsed": true,
    "extensions": {
     "jupyter_dashboards": {
      "version": 1,
      "views": {
       "grid_default": {
        "hidden": true
       },
       "report_default": {}
      }
     }
    }
   },
   "outputs": [],
   "source": [
    "rain = dc.load(product='bom_rainfall_grids', longitude=132.1, latitude=-27.5, time=('2000-1-1', '2001-1-1'))"
   ]
  },
  {
   "cell_type": "code",
   "execution_count": null,
   "metadata": {
    "extensions": {
     "jupyter_dashboards": {
      "version": 1,
      "views": {
       "grid_default": {
        "col": 4,
        "height": 11,
        "hidden": false,
        "row": 102,
        "width": 4
       },
       "report_default": {}
      }
     }
    }
   },
   "outputs": [],
   "source": [
    "rain.rainfall.sel(longitude=132.1, latitude=-27.500001, method='nearest').plot()"
   ]
  },
  {
   "cell_type": "code",
   "execution_count": null,
   "metadata": {
    "collapsed": true
   },
   "outputs": [],
   "source": [
    "rain = None"
   ]
  },
  {
   "cell_type": "markdown",
   "metadata": {
    "extensions": {
     "jupyter_dashboards": {
      "version": 1,
      "views": {
       "grid_default": {
        "col": 0,
        "height": 4,
        "hidden": false,
        "row": 870,
        "width": 12
       },
       "report_default": {}
      }
     }
    }
   },
   "source": [
    "## 1. Routine national scale product generation. Specifically, Version 2 will include national collections of:\n",
    "    \n",
    "### Water Observations from Space."
   ]
  },
  {
   "cell_type": "code",
   "execution_count": null,
   "metadata": {
    "extensions": {
     "jupyter_dashboards": {
      "version": 1,
      "views": {
       "grid_default": {
        "col": 8,
        "height": 4,
        "hidden": false,
        "row": 103,
        "width": 4
       },
       "report_default": {}
      }
     }
    }
   },
   "outputs": [],
   "source": [
    "dc.index.datasets.search_eager(product='srtm_dem1sv1_0')"
   ]
  },
  {
   "cell_type": "code",
   "execution_count": null,
   "metadata": {
    "extensions": {
     "jupyter_dashboards": {
      "version": 1,
      "views": {
       "grid_default": {
        "col": 8,
        "height": 6,
        "hidden": false,
        "row": 107,
        "width": 4
       },
       "report_default": {}
      }
     }
    }
   },
   "outputs": [],
   "source": [
    "rain_ds = dc.index.datasets.search_eager(product='bom_rainfall_grids', time=Range(datetime(2001, 1, 1), datetime(2002, 1, 1)))\n",
    "\n",
    "datasets_union_clip180(rain_ds).to_crs(geometry.CRS('EPSG:3577'))"
   ]
  },
  {
   "cell_type": "code",
   "execution_count": null,
   "metadata": {
    "collapsed": true
   },
   "outputs": [],
   "source": [
    "rain_ds = None"
   ]
  },
  {
   "cell_type": "code",
   "execution_count": null,
   "metadata": {
    "extensions": {
     "jupyter_dashboards": {
      "version": 1,
      "views": {
       "grid_default": {
        "col": 8,
        "height": 8,
        "hidden": false,
        "row": 113,
        "width": 4
       },
       "report_default": {}
      }
     }
    }
   },
   "outputs": [],
   "source": [
    "plot_folium([\n",
    "    datasets_union_clip180(\n",
    "        dc.index.datasets.search_eager(\n",
    "            product='bom_rainfall_grids', \n",
    "            time=Range(datetime(2001, 1, 1), datetime(2002, 1, 1))\n",
    "        )\n",
    "    )\n",
    "])"
   ]
  },
  {
   "cell_type": "code",
   "execution_count": null,
   "metadata": {
    "extensions": {
     "jupyter_dashboards": {
      "version": 1,
      "views": {
       "grid_default": {
        "col": 8,
        "height": 13,
        "hidden": false,
        "row": 121,
        "width": 4
       },
       "report_default": {}
      }
     }
    }
   },
   "outputs": [],
   "source": [
    "plot_folium([\n",
    "    datasets_union(\n",
    "        dc.index.datasets.search_eager(\n",
    "            product='srtm_dem1sv1_0',  \n",
    "            time=Range(datetime(2001, 1, 1), datetime(2020, 1, 1))\n",
    "        )\n",
    "    )\n",
    "])"
   ]
  },
  {
   "cell_type": "code",
   "execution_count": null,
   "metadata": {
    "collapsed": true,
    "extensions": {
     "jupyter_dashboards": {
      "version": 1,
      "views": {
       "grid_default": {
        "hidden": true
       },
       "report_default": {}
      }
     }
    }
   },
   "outputs": [],
   "source": [
    "# Josh archived all of this\n",
    "modis_mcd43a4 = dc.load(\n",
    "    product='modis_mcd43a4_tile',\n",
    "    x=(145,145.1),\n",
    "    y=(-38.0,-38.1),\n",
    "    resolution=(-500,500),\n",
    "    time=('2000-01-01', '2001-01-01'), \n",
    "    measurements=(\n",
    "        'Nadir_Reflectance_Band1',\n",
    "        'Nadir_Reflectance_Band4',\n",
    "        'Nadir_Reflectance_Band3'\n",
    "    )\n",
    ")"
   ]
  },
  {
   "cell_type": "code",
   "execution_count": null,
   "metadata": {},
   "outputs": [],
   "source": [
    "print(modis_mcd43a4)"
   ]
  },
  {
   "cell_type": "code",
   "execution_count": null,
   "metadata": {
    "collapsed": true
   },
   "outputs": [],
   "source": [
    "modis_mcd43a4 = None"
   ]
  },
  {
   "cell_type": "markdown",
   "metadata": {},
   "source": [
    "### Multiband file or subdataset support example"
   ]
  },
  {
   "cell_type": "code",
   "execution_count": null,
   "metadata": {
    "collapsed": true
   },
   "outputs": [],
   "source": [
    "%%script false\n",
    "# Modis disabled. Josh archived all of this\n",
    "\n",
    "modis_mcd43a1 = dc.load(\n",
    "    product='modis_mcd43a1_tile',\n",
    "    x=(145,145.1),\n",
    "    y=(-38.0,-38.1),\n",
    "    resolution=(-500,500),\n",
    "    time=('2001-01-01', '2001-01-01'), \n",
    "    measurements=(\n",
    "        'BRDF_Albedo_Parameters_Band1',\n",
    "        'BRDF_Albedo_Parameters_Band2',\n",
    "        'BRDF_Albedo_Parameters_Band3'\n",
    "    )\n",
    ")"
   ]
  },
  {
   "cell_type": "code",
   "execution_count": null,
   "metadata": {
    "collapsed": true
   },
   "outputs": [],
   "source": [
    "\n",
    "# modis_mcd43a1.BRDF_Albedo_Parameters_Band1[0][1]"
   ]
  },
  {
   "cell_type": "code",
   "execution_count": null,
   "metadata": {
    "collapsed": true,
    "scrolled": true
   },
   "outputs": [],
   "source": [
    "# plot_rgb(modis_mcd43a1, 1000)"
   ]
  },
  {
   "cell_type": "markdown",
   "metadata": {},
   "source": [
    "### Plot MODIS timeseries"
   ]
  },
  {
   "cell_type": "code",
   "execution_count": null,
   "metadata": {
    "collapsed": true,
    "extensions": {
     "jupyter_dashboards": {
      "version": 1,
      "views": {
       "grid_default": {
        "col": 4,
        "height": 12,
        "hidden": false,
        "row": 125,
        "width": 4
       },
       "report_default": {}
      }
     }
    }
   },
   "outputs": [],
   "source": [
    "# plot_rgb(modis_mcd43a4, 3000)"
   ]
  },
  {
   "cell_type": "code",
   "execution_count": null,
   "metadata": {
    "collapsed": true,
    "extensions": {
     "jupyter_dashboards": {
      "version": 1,
      "views": {
       "grid_default": {
        "col": 8,
        "height": 12,
        "hidden": false,
        "row": 134,
        "width": 4
       },
       "report_default": {}
      }
     }
    },
    "scrolled": true
   },
   "outputs": [],
   "source": [
    "# plot_folium([datasets_union(dc.index.datasets.search_eager(product='ls5_nbart_albers', time=Range(datetime(1986, 1, 1), datetime(1988, 1, 1))))])"
   ]
  },
  {
   "cell_type": "markdown",
   "metadata": {},
   "source": [
    "### Query, load and plot NBART example "
   ]
  },
  {
   "cell_type": "code",
   "execution_count": null,
   "metadata": {},
   "outputs": [],
   "source": [
    "query = {\n",
    "    'time': ('1987-01-01', '1988-01-01'),\n",
    "    'lat': (-35.2, -35.4),\n",
    "    'lon': (149.0, 149.2),\n",
    "}\n",
    "\n",
    "nbart = dc.load(\n",
    "    product='ls5_nbart_albers',\n",
    "    measurements=['swir2', 'nir', 'red'], \n",
    "    group_by='solar_day' , \n",
    "    **query\n",
    ")\n",
    "\n",
    "plot_rgb(nbart, 3500)"
   ]
  },
  {
   "cell_type": "code",
   "execution_count": null,
   "metadata": {
    "collapsed": true
   },
   "outputs": [],
   "source": [
    "nbart = None"
   ]
  },
  {
   "cell_type": "markdown",
   "metadata": {},
   "source": [
    "### Query, load and plot WoFS example \n",
    "#### Construction of the Burdekin Dam completed in 1987"
   ]
  },
  {
   "cell_type": "code",
   "execution_count": null,
   "metadata": {
    "collapsed": true,
    "extensions": {
     "jupyter_dashboards": {
      "version": 1,
      "views": {
       "grid_default": {
        "col": 4,
        "height": 4,
        "hidden": false,
        "row": 137,
        "width": 4
       },
       "report_default": {}
      }
     }
    }
   },
   "outputs": [],
   "source": [
    "%%script false\n",
    "# Disabled: WOfS has been removed.\n",
    "\n",
    "query = {\n",
    "    'time': ('1986-01-01', '1988-01-01'),\n",
    "    'lat': (-20.61, -20.67),\n",
    "    'lon': (147.0, 147.15),\n",
    "}\n",
    "\n",
    "wofs = dc.load(product='wofs_albers', group_by='solar_day', **query)\n",
    "wofs"
   ]
  },
  {
   "cell_type": "code",
   "execution_count": null,
   "metadata": {
    "collapsed": true
   },
   "outputs": [],
   "source": [
    "%%script false\n",
    "wofs.water.flags_definition\n",
    "pandas.DataFrame.from_dict(masking.get_flags_def(wofs), orient='index')"
   ]
  },
  {
   "cell_type": "code",
   "execution_count": null,
   "metadata": {
    "collapsed": true,
    "extensions": {
     "jupyter_dashboards": {
      "version": 1,
      "views": {
       "grid_default": {
        "col": 4,
        "height": 9,
        "hidden": false,
        "row": 141,
        "width": 4
       },
       "report_default": {}
      }
     }
    }
   },
   "outputs": [],
   "source": [
    "%%script false\n",
    "\n",
    "water = masking.make_mask(wofs, result='clear_wet')\n",
    "water.water.plot(col='time', col_wrap=5, robust=True, cmap='gray')"
   ]
  },
  {
   "cell_type": "code",
   "execution_count": null,
   "metadata": {
    "collapsed": true,
    "extensions": {
     "jupyter_dashboards": {
      "version": 1,
      "views": {
       "grid_default": {
        "col": 8,
        "height": 10,
        "hidden": false,
        "row": 146,
        "width": 4
       },
       "report_default": {}
      }
     }
    }
   },
   "outputs": [],
   "source": [
    "%%script false\n",
    "# Number of clear water pixels - no group by solar day to exclude scene overlap\n",
    "\n",
    "water_sum = water.water.sum('time').where(water.water.sum('time')!= 0)\n",
    "water_sum.plot(cmap='rainbow', robust=True)"
   ]
  },
  {
   "cell_type": "code",
   "execution_count": null,
   "metadata": {
    "collapsed": true
   },
   "outputs": [],
   "source": [
    "wofs = None\n",
    "water = None\n",
    "water_sum = None"
   ]
  },
  {
   "cell_type": "markdown",
   "metadata": {
    "extensions": {
     "jupyter_dashboards": {
      "version": 1,
      "views": {
       "grid_default": {
        "col": 4,
        "height": 4,
        "hidden": false,
        "row": 150,
        "width": 4
       },
       "report_default": {}
      }
     }
    }
   },
   "source": [
    " Intertidal Characterisation."
   ]
  },
  {
   "cell_type": "code",
   "execution_count": null,
   "metadata": {
    "collapsed": true,
    "extensions": {
     "jupyter_dashboards": {
      "version": 1,
      "views": {
       "grid_default": {
        "hidden": true
       },
       "report_default": {}
      }
     }
    }
   },
   "outputs": [],
   "source": [
    "# incomplete for v2 - water classification only - confidence metrics continue to be a work in progress"
   ]
  },
  {
   "cell_type": "markdown",
   "metadata": {
    "extensions": {
     "jupyter_dashboards": {
      "version": 1,
      "views": {
       "grid_default": {
        "col": 4,
        "height": 4,
        "hidden": false,
        "row": 154,
        "width": 4
       },
       "report_default": {}
      }
     }
    }
   },
   "source": [
    "### Landsat Fractional Cover."
   ]
  },
  {
   "cell_type": "code",
   "execution_count": null,
   "metadata": {
    "extensions": {
     "jupyter_dashboards": {
      "version": 1,
      "views": {
       "grid_default": {
        "hidden": true
       },
       "report_default": {}
      }
     }
    }
   },
   "outputs": [],
   "source": [
    "plot_folium([\n",
    "    datasets_union(\n",
    "        dc.index.datasets.search_eager(\n",
    "            product='ls5_fc_albers',\n",
    "            time=Range(datetime(1987, 1, 1), datetime(1988, 1, 1))\n",
    "        )\n",
    "    )\n",
    "])"
   ]
  },
  {
   "cell_type": "code",
   "execution_count": null,
   "metadata": {
    "extensions": {
     "jupyter_dashboards": {
      "version": 1,
      "views": {
       "grid_default": {
        "hidden": true
       },
       "report_default": {}
      }
     }
    },
    "scrolled": false
   },
   "outputs": [],
   "source": [
    "# Query, load and plot Fractional Cover example \n",
    "\n",
    "query = {\n",
    "    'time': ('1987-01-01', '1988-01-01'),\n",
    "    'lat': (-35.2, -35.4),\n",
    "    'lon': (149.0, 149.2),\n",
    "}\n",
    "\n",
    "fractional_cover = dc.load(\n",
    "    product='ls5_fc_albers',\n",
    "    measurements=['BS', 'PV', 'NPV'], \n",
    "    group_by='solar_day' , \n",
    "    **query\n",
    ")\n",
    "\n",
    "plot_rgb(fractional_cover, 100)"
   ]
  },
  {
   "cell_type": "code",
   "execution_count": null,
   "metadata": {
    "collapsed": true
   },
   "outputs": [],
   "source": [
    "fractional_cover = None"
   ]
  },
  {
   "cell_type": "markdown",
   "metadata": {
    "extensions": {
     "jupyter_dashboards": {
      "version": 1,
      "views": {
       "grid_default": {
        "col": 8,
        "height": 4,
        "hidden": false,
        "row": 156,
        "width": 4
       },
       "report_default": {}
      }
     }
    }
   },
   "source": [
    "### Pixel Quality"
   ]
  },
  {
   "cell_type": "code",
   "execution_count": null,
   "metadata": {
    "extensions": {
     "jupyter_dashboards": {
      "version": 1,
      "views": {
       "grid_default": {
        "hidden": true
       },
       "report_default": {}
      }
     }
    }
   },
   "outputs": [],
   "source": [
    "plot_folium([\n",
    "    datasets_union(\n",
    "        dc.index.datasets.search_eager(\n",
    "            product='ls5_pq_albers',\n",
    "            time=Range(datetime(1987, 1, 1), datetime(1988, 1, 1))\n",
    "        )\n",
    "    )\n",
    "])"
   ]
  },
  {
   "cell_type": "code",
   "execution_count": null,
   "metadata": {
    "extensions": {
     "jupyter_dashboards": {
      "version": 1,
      "views": {
       "grid_default": {
        "hidden": true
       },
       "report_default": {}
      }
     }
    }
   },
   "outputs": [],
   "source": [
    "plot_folium([\n",
    "    datasets_union(\n",
    "        dc.index.datasets.search_eager(\n",
    "            product='ls7_nbar_albers',\n",
    "           time=Range(datetime(2004,2, 1), datetime(2004, 2, 16))\n",
    "        )\n",
    "    )\n",
    "])"
   ]
  },
  {
   "cell_type": "code",
   "execution_count": null,
   "metadata": {
    "extensions": {
     "jupyter_dashboards": {
      "version": 1,
      "views": {
       "grid_default": {
        "hidden": true
       },
       "report_default": {}
      }
     }
    }
   },
   "outputs": [],
   "source": [
    "pq = dc.load(product='ls5_pq_albers', group_by='solar_day', **query)\n",
    "pq.pixelquality.plot(col='time', col_wrap=5, robust=True)"
   ]
  },
  {
   "cell_type": "code",
   "execution_count": null,
   "metadata": {
    "extensions": {
     "jupyter_dashboards": {
      "version": 1,
      "views": {
       "grid_default": {
        "hidden": true
       },
       "report_default": {}
      }
     }
    }
   },
   "outputs": [],
   "source": [
    "# Number of clear pixels based on ga_good_pixels default - no group by solar day to exclude scene overlap\n",
    "clear_pixels = masking.make_mask(pq, ga_good_pixel=True)\n",
    "clear_pixels.pixelquality.sum('time').plot(cmap='rainbow')"
   ]
  },
  {
   "cell_type": "code",
   "execution_count": null,
   "metadata": {
    "collapsed": true
   },
   "outputs": [],
   "source": [
    "clear_pixels = None"
   ]
  },
  {
   "cell_type": "markdown",
   "metadata": {
    "extensions": {
     "jupyter_dashboards": {
      "version": 1,
      "views": {
       "grid_default": {
        "col": 4,
        "height": 4,
        "hidden": false,
        "row": 158,
        "width": 4
       },
       "report_default": {}
      }
     }
    }
   },
   "source": [
    "### NDVI"
   ]
  },
  {
   "cell_type": "code",
   "execution_count": null,
   "metadata": {
    "extensions": {
     "jupyter_dashboards": {
      "version": 1,
      "views": {
       "grid_default": {
        "hidden": true
       },
       "report_default": {}
      }
     }
    }
   },
   "outputs": [],
   "source": [
    "plot_folium([\n",
    "    datasets_union(\n",
    "        dc.index.datasets.search_eager(\n",
    "            product='ls5_ndvi_albers',\n",
    "            time=Range(datetime(1987,1, 1), datetime(1988, 1, 1))\n",
    "        )\n",
    "    )\n",
    "])"
   ]
  },
  {
   "cell_type": "code",
   "execution_count": null,
   "metadata": {
    "extensions": {
     "jupyter_dashboards": {
      "version": 1,
      "views": {
       "grid_default": {
        "hidden": true
       },
       "report_default": {}
      }
     }
    }
   },
   "outputs": [],
   "source": [
    "#ndvi = dc.load(product='ls5_ndvi_albers', group_by='solar_day', **query )\n",
    "#ndvi = mask_invalid_data(ndvi)\n",
    "good_pixels = masking.make_mask(pq, ga_good_pixel=True)\n",
    "#ndvi = ndvi.where(good_pixels.pixelquality)\n",
    "#ndvi.ndvi.plot(col='time', col_wrap=5, robust=True, cmap='Greens')\n",
    "print(good_pixels)"
   ]
  },
  {
   "cell_type": "code",
   "execution_count": null,
   "metadata": {
    "collapsed": true
   },
   "outputs": [],
   "source": []
  },
  {
   "cell_type": "markdown",
   "metadata": {
    "extensions": {
     "jupyter_dashboards": {
      "version": 1,
      "views": {
       "grid_default": {
        "col": 8,
        "height": 4,
        "hidden": false,
        "row": 160,
        "width": 4
       },
       "report_default": {}
      }
     }
    }
   },
   "source": [
    "Landsat Surface reflectance statistical summaries:\n",
    "\n",
    "    Seasonal medians; and"
   ]
  },
  {
   "cell_type": "code",
   "execution_count": null,
   "metadata": {
    "collapsed": true,
    "extensions": {
     "jupyter_dashboards": {
      "version": 1,
      "views": {
       "grid_default": {
        "hidden": true
       },
       "report_default": {}
      }
     }
    }
   },
   "outputs": [],
   "source": [
    "#ndvi.ndvi.median(dim='time').plot(robust=True, cmap='YlGn')"
   ]
  },
  {
   "cell_type": "markdown",
   "metadata": {
    "extensions": {
     "jupyter_dashboards": {
      "version": 1,
      "views": {
       "grid_default": {
        "col": 4,
        "height": 4,
        "hidden": false,
        "row": 162,
        "width": 4
       },
       "report_default": {}
      }
     }
    }
   },
   "source": [
    "   Most-up-to-date observation."
   ]
  },
  {
   "cell_type": "code",
   "execution_count": null,
   "metadata": {
    "collapsed": true,
    "extensions": {
     "jupyter_dashboards": {
      "version": 1,
      "views": {
       "grid_default": {
        "hidden": true
       },
       "report_default": {}
      }
     }
    }
   },
   "outputs": [],
   "source": [
    "# Most recent pixel mosaic function from cloud screen NBAR\n",
    "#%run /g/data/v10/public/agdcv2_requirements/latest_pixel/agdc_pixel/pixel_test.py '60/(15,-40)'"
   ]
  },
  {
   "cell_type": "code",
   "execution_count": null,
   "metadata": {
    "collapsed": true,
    "extensions": {
     "jupyter_dashboards": {
      "version": 1,
      "views": {
       "grid_default": {
        "hidden": true
       },
       "report_default": {}
      }
     }
    }
   },
   "outputs": [],
   "source": [
    "#my_data"
   ]
  },
  {
   "cell_type": "code",
   "execution_count": null,
   "metadata": {
    "collapsed": true,
    "extensions": {
     "jupyter_dashboards": {
      "version": 1,
      "views": {
       "grid_default": {
        "hidden": true
       },
       "report_default": {}
      }
     }
    }
   },
   "outputs": [],
   "source": [
    "#my_data[15, -40].swir1.plot(cmap='rainbow', robust=True)"
   ]
  },
  {
   "cell_type": "markdown",
   "metadata": {
    "extensions": {
     "jupyter_dashboards": {
      "version": 1,
      "views": {
       "grid_default": {
        "col": 8,
        "height": 4,
        "hidden": false,
        "row": 164,
        "width": 4
       },
       "report_default": {}
      }
     }
    }
   },
   "source": [
    "\n",
    "    \n",
    "In some cases, these collections may be virtual, i.e. they are not pre-computed but rather\n",
    "computed as they are needed.\n"
   ]
  },
  {
   "cell_type": "code",
   "execution_count": null,
   "metadata": {
    "extensions": {
     "jupyter_dashboards": {
      "version": 1,
      "views": {
       "grid_default": {
        "hidden": true
       },
       "report_default": {}
      }
     }
    }
   },
   "outputs": [],
   "source": [
    "nbar = dc.load(product='ls5_nbar_albers', group_by='solar_day', **query )\n",
    "nbar = nbar.where(good_pixels.pixelquality)\n",
    "ndvi_on_the_fly = (nbar.nir-nbar.red)/(nbar.nir+nbar.red)*10000\n",
    "ndvi_on_the_fly.median(dim='time').plot(robust=True, cmap='YlGn')"
   ]
  },
  {
   "cell_type": "code",
   "execution_count": null,
   "metadata": {
    "collapsed": true,
    "extensions": {
     "jupyter_dashboards": {
      "version": 1,
      "views": {
       "grid_default": {
        "hidden": true
       },
       "report_default": {}
      }
     }
    }
   },
   "outputs": [],
   "source": [
    "# diff = (ndvi_on_the_fly.median(dim='time') - ndvi.ndvi.median(dim='time'))"
   ]
  },
  {
   "cell_type": "code",
   "execution_count": null,
   "metadata": {
    "collapsed": true,
    "extensions": {
     "jupyter_dashboards": {
      "version": 1,
      "views": {
       "grid_default": {
        "hidden": true
       },
       "report_default": {}
      }
     }
    }
   },
   "outputs": [],
   "source": [
    "# diff.plot(robust=True) #error at level of noise due to *10000 scaling of floats"
   ]
  },
  {
   "cell_type": "markdown",
   "metadata": {},
   "source": [
    "### CLI Dataset info, search"
   ]
  },
  {
   "cell_type": "code",
   "execution_count": null,
   "metadata": {},
   "outputs": [],
   "source": [
    "! datacube dataset info 92d414d0-3d82-4702-9e24-4af6e49d95b5"
   ]
  },
  {
   "cell_type": "code",
   "execution_count": null,
   "metadata": {},
   "outputs": [],
   "source": [
    "! datacube dataset info -f csv 92d414d0-3d82-4702-9e24-4af6e49d95b5"
   ]
  },
  {
   "cell_type": "code",
   "execution_count": null,
   "metadata": {},
   "outputs": [],
   "source": [
    "! datacube dataset search \\\n",
    "            product=ls8_level1_scene \\\n",
    "           \"time in range (2015-3-2, 2015-3-19)\" \\\n",
    "            sat_path=112 \\\n",
    "            sat_row=75"
   ]
  },
  {
   "cell_type": "markdown",
   "metadata": {
    "extensions": {
     "jupyter_dashboards": {
      "version": 1,
      "views": {
       "grid_default": {
        "col": 0,
        "height": 4,
        "hidden": false,
        "row": 874,
        "width": 12
       },
       "report_default": {}
      }
     }
    }
   },
   "source": [
    "## 2. A user should be able to interact with these collections through a web browser including:#\n",
    "\n",
    "Clicking on a pixel and displaying a time series (i.e., pixel drill)."
   ]
  },
  {
   "cell_type": "code",
   "execution_count": null,
   "metadata": {
    "collapsed": true,
    "extensions": {
     "jupyter_dashboards": {
      "version": 1,
      "views": {
       "grid_default": {
        "hidden": true
       },
       "report_default": {}
      }
     }
    }
   },
   "outputs": [],
   "source": [
    "# See Steven Ackerley / Andrew Hicks\n",
    "# NCML through THREDDS\n",
    "#!/g/data/v10/public/agdcv2-pixeldrill/pixeldrill -p ls5_nbart_albers\n",
    "\n",
    "#Webpage to define it\n",
    "!firefox http://dapds00.nci.org.au/thredds/ncss/grid/uc0/rs0_dev/all_the_ncmls/LS5_TM_FC/ncml/LS5_TM_FC_13_-43.ncml/pointDataset.html"
   ]
  },
  {
   "cell_type": "code",
   "execution_count": null,
   "metadata": {
    "collapsed": true,
    "extensions": {
     "jupyter_dashboards": {
      "version": 1,
      "views": {
       "grid_default": {
        "hidden": true
       },
       "report_default": {}
      }
     }
    }
   },
   "outputs": [],
   "source": [
    "#CSV URL for a drill\n",
    "!firefox http://dapds00.nci.org.au/thredds/ncss/uc0/rs0_dev/all_the_ncmls/LS5_TM_FC/ncml/LS5_TM_FC_13_-43.ncml?var=BS&var=NPV&var=PV&latitude=-38.13&longitude=147.17&time_start=1986-08-21T23%3A18%3A40Z&time_end=2011-11-14T23%3A45%3A07Z&accept=csv\n"
   ]
  },
  {
   "cell_type": "markdown",
   "metadata": {
    "extensions": {
     "jupyter_dashboards": {
      "version": 1,
      "views": {
       "grid_default": {
        "col": 0,
        "height": 4,
        "hidden": false,
        "row": 878,
        "width": 12
       },
       "report_default": {}
      }
     }
    }
   },
   "source": [
    "### Spatio-temporal (statistical) summaries that would allow users to easily answer questions such as:\n",
    "    \n",
    "    How frequently was water observed over catchment y during time period x; and\n"
   ]
  },
  {
   "cell_type": "code",
   "execution_count": null,
   "metadata": {
    "collapsed": true,
    "extensions": {
     "jupyter_dashboards": {
      "version": 1,
      "views": {
       "grid_default": {
        "hidden": true
       },
       "report_default": {}
      }
     }
    }
   },
   "outputs": [],
   "source": [
    "# not this time - you mean wofs right? - see example below for when the data is available"
   ]
  },
  {
   "cell_type": "markdown",
   "metadata": {
    "extensions": {
     "jupyter_dashboards": {
      "version": 1,
      "views": {
       "grid_default": {
        "col": 4,
        "height": 4,
        "hidden": false,
        "row": 166,
        "width": 4
       },
       "report_default": {}
      }
     }
    }
   },
   "source": [
    "\n",
    "    What was the surface reflectance for area x at time y?"
   ]
  },
  {
   "cell_type": "markdown",
   "metadata": {
    "extensions": {
     "jupyter_dashboards": {
      "version": 1,
      "views": {
       "grid_default": {
        "col": 8,
        "height": 4,
        "hidden": false,
        "row": 168,
        "width": 4
       },
       "report_default": {}
      }
     }
    }
   },
   "source": [
    "Link to [stats within a polygon](zonal-stats-pilbara.ipynb)"
   ]
  },
  {
   "cell_type": "markdown",
   "metadata": {
    "extensions": {
     "jupyter_dashboards": {
      "version": 1,
      "views": {
       "grid_default": {
        "col": 0,
        "height": 5,
        "hidden": false,
        "row": 882,
        "width": 12
       },
       "report_default": {}
      }
     }
    }
   },
   "source": [
    "## 3. Earth Observation (EO) scientists and allied domain specialists will be able to undertake exploratory data analysis. In general this would mean a user will be able to easily retrieve, investigate, visualise, develop algorithms, test, iterate, visualise results and interpret them in the context of other spatio-temporal datasets."
   ]
  },
  {
   "cell_type": "markdown",
   "metadata": {
    "extensions": {
     "jupyter_dashboards": {
      "version": 1,
      "views": {
       "grid_default": {
        "col": 4,
        "height": 4,
        "hidden": false,
        "row": 170,
        "width": 4
       },
       "report_default": {}
      }
     }
    }
   },
   "source": [
    " A key demonstration of this capability will be the availability of functions and data\n",
    "structures to enable Landsat/MODIS blending."
   ]
  },
  {
   "cell_type": "markdown",
   "metadata": {
    "extensions": {
     "jupyter_dashboards": {
      "version": 1,
      "views": {
       "grid_default": {
        "col": 0,
        "height": 4,
        "hidden": false,
        "row": 887,
        "width": 12
       },
       "report_default": {}
      }
     }
    }
   },
   "source": [
    "### Input data\n",
    "The AGDC will use the following data collections:\n",
    " Landsat: TM, ETM+ and OLI/TIRS.\n",
    " MODIS: Collection 6 MOD09 (granule) and MOD43 (sinusoidal tiles) that will provide variables\n",
    "necessary for the Landsat-MODIS blending algorithm."
   ]
  },
  {
   "cell_type": "code",
   "execution_count": null,
   "metadata": {
    "extensions": {
     "jupyter_dashboards": {
      "version": 1,
      "views": {
       "grid_default": {
        "hidden": true
       },
       "report_default": {}
      }
     }
    },
    "scrolled": true
   },
   "outputs": [],
   "source": [
    "dc.list_products()"
   ]
  },
  {
   "cell_type": "markdown",
   "metadata": {
    "extensions": {
     "jupyter_dashboards": {
      "version": 1,
      "views": {
       "grid_default": {
        "col": 8,
        "height": 4,
        "hidden": false,
        "row": 172,
        "width": 4
       },
       "report_default": {}
      }
     }
    }
   },
   "source": [
    "It will also include the SRTM 3 second DSM and 1 and 3 second DEMs."
   ]
  },
  {
   "cell_type": "code",
   "execution_count": null,
   "metadata": {
    "extensions": {
     "jupyter_dashboards": {
      "version": 1,
      "views": {
       "grid_default": {
        "hidden": true
       },
       "report_default": {}
      }
     }
    }
   },
   "outputs": [],
   "source": [
    "dc.list_measurements()"
   ]
  },
  {
   "cell_type": "markdown",
   "metadata": {
    "extensions": {
     "jupyter_dashboards": {
      "version": 1,
      "views": {
       "grid_default": {
        "col": 0,
        "height": 4,
        "hidden": false,
        "row": 891,
        "width": 12
       },
       "report_default": {}
      }
     }
    }
   },
   "source": [
    "At a minimum, the Australian implementation of the AGDC will cover all of continental Australia plus a\n",
    "one tile buffer and the Great Barrier Reef. However, the Boards preference would be for the Version\n",
    "2 to also cover all Commonwealth Marine Reserves."
   ]
  },
  {
   "cell_type": "code",
   "execution_count": null,
   "metadata": {
    "extensions": {
     "jupyter_dashboards": {
      "version": 1,
      "views": {
       "grid_default": {
        "hidden": true
       },
       "report_default": {}
      }
     }
    }
   },
   "outputs": [],
   "source": [
    "plot_folium([\n",
    "    datasets_union(\n",
    "        dc.index.datasets.search_eager(\n",
    "            product='ls8_nbar_albers',\n",
    "            time=Range(datetime(2014,1, 1), datetime(2015, 1, 1))\n",
    "        )\n",
    "    )\n",
    "])"
   ]
  },
  {
   "cell_type": "markdown",
   "metadata": {
    "extensions": {
     "jupyter_dashboards": {
      "version": 1,
      "views": {
       "grid_default": {
        "col": 4,
        "height": 4,
        "hidden": false,
        "row": 174,
        "width": 4
       },
       "report_default": {}
      }
     }
    }
   },
   "source": [
    "All data collections that are included in the Australian implementation of the AGDC will:\n",
    " Have a CC BY Attribution 3.0 or CC BY Attribution 4.0 license. "
   ]
  },
  {
   "cell_type": "code",
   "execution_count": null,
   "metadata": {
    "extensions": {
     "jupyter_dashboards": {
      "version": 1,
      "views": {
       "grid_default": {
        "hidden": true
       },
       "report_default": {}
      }
     }
    }
   },
   "outputs": [],
   "source": [
    "!ncdump -h '/g/data/rs0/datacube/002/LS5_TM_NBAR/14_-40/LS5_TM_NBAR_3577_14_-40_19860821231816000000.nc' | grep license"
   ]
  },
  {
   "cell_type": "markdown",
   "metadata": {
    "extensions": {
     "jupyter_dashboards": {
      "version": 1,
      "views": {
       "grid_default": {
        "col": 8,
        "height": 4,
        "hidden": false,
        "row": 176,
        "width": 4
       },
       "report_default": {}
      }
     }
    }
   },
   "source": [
    "The use of a collection with a\n",
    "different licence will require approval of the AGDC Programme Board; and\n",
    " Be in netCDF 4 format and will comply with relevant CF conventions;."
   ]
  },
  {
   "cell_type": "code",
   "execution_count": null,
   "metadata": {
    "collapsed": true,
    "extensions": {
     "jupyter_dashboards": {
      "version": 1,
      "views": {
       "grid_default": {
        "hidden": true
       },
       "report_default": {}
      }
     }
    }
   },
   "outputs": [],
   "source": [
    "import compliance_checker"
   ]
  },
  {
   "cell_type": "code",
   "execution_count": null,
   "metadata": {
    "extensions": {
     "jupyter_dashboards": {
      "version": 1,
      "views": {
       "grid_default": {
        "hidden": true
       },
       "report_default": {}
      }
     }
    }
   },
   "outputs": [],
   "source": [
    "compliance_checker.__version__"
   ]
  },
  {
   "cell_type": "code",
   "execution_count": null,
   "metadata": {
    "extensions": {
     "jupyter_dashboards": {
      "version": 1,
      "views": {
       "grid_default": {
        "hidden": true
       },
       "report_default": {}
      }
     }
    }
   },
   "outputs": [],
   "source": [
    "from __future__ import print_function\n",
    "import argparse\n",
    "import sys\n",
    "\n",
    "import cf_units\n",
    "from compliance_checker.runner import ComplianceChecker, CheckSuite\n",
    "from compliance_checker import __version__\n",
    "\n",
    "ds_loc = '/g/data/rs0/datacube/002/LS5_TM_NBAR/14_-40/LS5_TM_NBAR_3577_14_-40_19860821231816000000.nc'\n",
    "\n",
    "cs = CheckSuite()\n",
    "cs.load_all_available_checkers()\n",
    "\n",
    "was_success, errors = ComplianceChecker.run_checker(\n",
    "    ds_loc=ds_loc, \n",
    "    checker_names=['cf'], # 'acdd'?\n",
    "    verbose=0, \n",
    "    criteria='normal', \n",
    "    output_filename='-',\n",
    "    # Skipping:\n",
    "    # - check_dimension_order: \n",
    "    #      Our files don't contain all the lats/lons as an auxiliary \n",
    "    #      cordinate var as it's unnecessary for any software we've \n",
    "    #      tried.\n",
    "    #      It may be added at some point in the future, and this check \n",
    "    #      should be re-enabled.\n",
    "    skip_checks=['check_dimension_order']\n",
    ")\n",
    "# missing source attribute: skippable according to Damien\n",
    "# assert was_success, \"Compliance failed.\""
   ]
  },
  {
   "cell_type": "code",
   "execution_count": null,
   "metadata": {
    "extensions": {
     "jupyter_dashboards": {
      "version": 1,
      "views": {
       "grid_default": {
        "hidden": true
       },
       "report_default": {}
      }
     }
    }
   },
   "outputs": [],
   "source": [
    "help(ComplianceChecker.run_checker)"
   ]
  },
  {
   "cell_type": "markdown",
   "metadata": {
    "extensions": {
     "jupyter_dashboards": {
      "version": 1,
      "views": {
       "grid_default": {
        "col": 0,
        "height": 4,
        "hidden": false,
        "row": 895,
        "width": 12
       },
       "report_default": {}
      }
     }
    }
   },
   "source": [
    "## Output Products\n",
    "By June 30, 2016 the Australian implementation of the AGDC will ensure that the products being\n",
    "produced are supported by and hosted on the RDS."
   ]
  },
  {
   "cell_type": "code",
   "execution_count": null,
   "metadata": {
    "extensions": {
     "jupyter_dashboards": {
      "version": 1,
      "views": {
       "grid_default": {
        "hidden": true
       },
       "report_default": {}
      }
     }
    }
   },
   "outputs": [],
   "source": [
    "!ls /g/data/rs0/datacube/002"
   ]
  },
  {
   "cell_type": "code",
   "execution_count": null,
   "metadata": {
    "extensions": {
     "jupyter_dashboards": {
      "version": 1,
      "views": {
       "grid_default": {
        "hidden": true
       },
       "report_default": {}
      }
     }
    }
   },
   "outputs": [],
   "source": [
    "!ls /g/data/fk4/datacube/002"
   ]
  },
  {
   "cell_type": "markdown",
   "metadata": {
    "extensions": {
     "jupyter_dashboards": {
      "version": 1,
      "views": {
       "grid_default": {
        "col": 0,
        "height": 4,
        "hidden": false,
        "row": 899,
        "width": 12
       },
       "report_default": {}
      }
     }
    }
   },
   "source": [
    "## Technical Requirements\n",
    "In line with the use-case patterns outlined above, Version 2 will support:\n",
    " Data-fusion and analysis across heterogeneous gridded data collections from different\n",
    "domains."
   ]
  },
  {
   "cell_type": "code",
   "execution_count": null,
   "metadata": {
    "collapsed": true,
    "extensions": {
     "jupyter_dashboards": {
      "version": 1,
      "views": {
       "grid_default": {
        "hidden": true
       },
       "report_default": {}
      }
     }
    }
   },
   "outputs": [],
   "source": [
    "albers_grid = dc.load(\n",
    "    product='ls5_nbart_albers', \n",
    "    group_by='solar_day',\n",
    "    measurements=['swir2', 'nir', 'blue'], \n",
    "    **query\n",
    ")"
   ]
  },
  {
   "cell_type": "code",
   "execution_count": null,
   "metadata": {
    "collapsed": true,
    "extensions": {
     "jupyter_dashboards": {
      "version": 1,
      "views": {
       "grid_default": {
        "hidden": true
       },
       "report_default": {}
      }
     }
    }
   },
   "outputs": [],
   "source": [
    "sinusoidal_grid = dc.load(\n",
    "    product='ls5_nbar_albers',  \n",
    "    group_by='solar_day', \n",
    "    measurements=['swir2', 'nir', 'blue'],\n",
    "    output_crs='PROJCS[\"unnamed\",GEOGCS[\"Unknown datum based upon the custom spheroid\",\\\n",
    "                DATUM[\"Not specified (based on custom spheroid)\",\\\n",
    "                SPHEROID[\"Custom spheroid\",6371007.181,0]],\\\n",
    "                PRIMEM[\"Greenwich\",0],\\\n",
    "                UNIT[\"degree\",0.0174532925199433]],\\\n",
    "                PROJECTION[\"Sinusoidal\"],\\\n",
    "                PARAMETER[\"longitude_of_center\",0],\\\n",
    "                PARAMETER[\"false_easting\",0],\\\n",
    "                PARAMETER[\"false_northing\",0],\\\n",
    "                UNIT[\"Meter\",1]]',\n",
    "    resolution=(-250,250), \n",
    "    **query\n",
    ")"
   ]
  },
  {
   "cell_type": "code",
   "execution_count": null,
   "metadata": {
    "extensions": {
     "jupyter_dashboards": {
      "version": 1,
      "views": {
       "grid_default": {
        "hidden": true
       },
       "report_default": {}
      }
     }
    }
   },
   "outputs": [],
   "source": [
    "plot_rgb(albers_grid, 3500)\n",
    "albers_grid = None"
   ]
  },
  {
   "cell_type": "code",
   "execution_count": null,
   "metadata": {
    "extensions": {
     "jupyter_dashboards": {
      "version": 1,
      "views": {
       "grid_default": {
        "hidden": true
       },
       "report_default": {}
      }
     }
    }
   },
   "outputs": [],
   "source": [
    "plot_rgb(sinusoidal_grid, 3500)\n",
    "sinusoidal_grid = None"
   ]
  },
  {
   "cell_type": "markdown",
   "metadata": {
    "extensions": {
     "jupyter_dashboards": {
      "version": 1,
      "views": {
       "grid_default": {
        "col": 4,
        "height": 4,
        "hidden": false,
        "row": 178,
        "width": 4
       },
       "report_default": {}
      }
     }
    }
   },
   "source": [
    "Tuneable configuration, at ingest, of multidimensional files (eg. chunking, compression type,\n",
    "dimension depth)."
   ]
  },
  {
   "cell_type": "code",
   "execution_count": null,
   "metadata": {
    "extensions": {
     "jupyter_dashboards": {
      "version": 1,
      "views": {
       "grid_default": {
        "hidden": true
       },
       "report_default": {}
      }
     }
    }
   },
   "outputs": [],
   "source": [
    "!datacube product add --help"
   ]
  },
  {
   "cell_type": "markdown",
   "metadata": {
    "extensions": {
     "jupyter_dashboards": {
      "version": 1,
      "views": {
       "grid_default": {
        "col": 8,
        "height": 4,
        "hidden": false,
        "row": 180,
        "width": 4
       },
       "report_default": {}
      }
     }
    }
   },
   "source": [
    "## A data retrieval mechanism that provides the ability to:\n"
   ]
  },
  {
   "cell_type": "markdown",
   "metadata": {
    "extensions": {
     "jupyter_dashboards": {
      "version": 1,
      "views": {
       "grid_default": {
        "col": 4,
        "height": 4,
        "hidden": false,
        "row": 182,
        "width": 4
       },
       "report_default": {}
      }
     }
    }
   },
   "source": [
    "Obtain seamless subsets of data across storage unit boundaries;\n"
   ]
  },
  {
   "cell_type": "code",
   "execution_count": null,
   "metadata": {
    "collapsed": true,
    "extensions": {
     "jupyter_dashboards": {
      "version": 1,
      "views": {
       "grid_default": {
        "hidden": true
       },
       "report_default": {}
      }
     }
    }
   },
   "outputs": [],
   "source": [
    "seamless_query = {\n",
    "    'time': ('2011-6-1', '2011-6-30'),\n",
    "    'lat': (-20, -30),\n",
    "    'lon': (132.0, 132.01),\n",
    "}"
   ]
  },
  {
   "cell_type": "code",
   "execution_count": null,
   "metadata": {
    "collapsed": true,
    "extensions": {
     "jupyter_dashboards": {
      "version": 1,
      "views": {
       "grid_default": {
        "hidden": true
       },
       "report_default": {}
      }
     }
    }
   },
   "outputs": [],
   "source": [
    "seamless_subset = dc.load(\n",
    "    product='ls5_nbar_albers', \n",
    "    measurements=['swir2', 'nir', 'blue'], \n",
    "    group_by='solar_day', \n",
    "    **seamless_query\n",
    ")"
   ]
  },
  {
   "cell_type": "code",
   "execution_count": null,
   "metadata": {
    "extensions": {
     "jupyter_dashboards": {
      "version": 1,
      "views": {
       "grid_default": {
        "hidden": true
       },
       "report_default": {}
      }
     }
    }
   },
   "outputs": [],
   "source": [
    "seamless_subset.y.max() - seamless_subset.y.min() #distance in metres"
   ]
  },
  {
   "cell_type": "code",
   "execution_count": null,
   "metadata": {
    "extensions": {
     "jupyter_dashboards": {
      "version": 1,
      "views": {
       "grid_default": {
        "hidden": true
       },
       "report_default": {}
      }
     }
    }
   },
   "outputs": [],
   "source": [
    "seamless_subset.x.max() - seamless_subset.x.min() #distance in metres"
   ]
  },
  {
   "cell_type": "code",
   "execution_count": null,
   "metadata": {
    "collapsed": true,
    "extensions": {
     "jupyter_dashboards": {
      "version": 1,
      "views": {
       "grid_default": {
        "hidden": true
       },
       "report_default": {}
      }
     }
    }
   },
   "outputs": [],
   "source": [
    "seamless_subset.extent.points"
   ]
  },
  {
   "cell_type": "code",
   "execution_count": null,
   "metadata": {
    "extensions": {
     "jupyter_dashboards": {
      "version": 1,
      "views": {
       "grid_default": {
        "hidden": true
       },
       "report_default": {}
      }
     }
    }
   },
   "outputs": [],
   "source": [
    "plot_rgb(seamless_subset, 3000)"
   ]
  },
  {
   "cell_type": "code",
   "execution_count": null,
   "metadata": {
    "collapsed": true,
    "extensions": {
     "jupyter_dashboards": {
      "version": 1,
      "views": {
       "grid_default": {
        "hidden": true
       },
       "report_default": {}
      }
     }
    }
   },
   "outputs": [],
   "source": [
    "# With the Grid Workflow class demonstrate seamless spatial query across tile boundaries\n",
    "from datacube.api import GridWorkflow  "
   ]
  },
  {
   "cell_type": "code",
   "execution_count": null,
   "metadata": {
    "collapsed": true,
    "extensions": {
     "jupyter_dashboards": {
      "version": 1,
      "views": {
       "grid_default": {
        "hidden": true
       },
       "report_default": {}
      }
     }
    }
   },
   "outputs": [],
   "source": [
    "gw = GridWorkflow(dc.index, product='ls5_nbar_albers')"
   ]
  },
  {
   "cell_type": "code",
   "execution_count": null,
   "metadata": {
    "extensions": {
     "jupyter_dashboards": {
      "version": 1,
      "views": {
       "grid_default": {
        "hidden": true
       },
       "report_default": {}
      }
     }
    }
   },
   "outputs": [],
   "source": [
    "# The query straddles multiple tiles - indexes shown below\n",
    "gw.list_cells(\n",
    "    product = 'ls5_nbar_albers', \n",
    "    **seamless_query\n",
    ").keys()"
   ]
  },
  {
   "cell_type": "markdown",
   "metadata": {
    "extensions": {
     "jupyter_dashboards": {
      "version": 1,
      "views": {
       "grid_default": {
        "col": 8,
        "height": 4,
        "hidden": false,
        "row": 184,
        "width": 4
       },
       "report_default": {}
      }
     }
    }
   },
   "source": [
    "\n",
    "Filter data based on observation attribute (for example, pixel quality);"
   ]
  },
  {
   "cell_type": "code",
   "execution_count": null,
   "metadata": {
    "extensions": {
     "jupyter_dashboards": {
      "version": 1,
      "views": {
       "grid_default": {
        "hidden": true
       },
       "report_default": {}
      }
     }
    }
   },
   "outputs": [],
   "source": [
    "\n",
    "# Load some NDVI\n",
    "nbar = dc.load(product='ls5_nbar_albers', group_by='solar_day', **query) \n",
    "ndvi = (nbar.nir - nbar.red) / (nbar.nir + nbar.red) * 10000\n",
    "nbar = None\n",
    "\n",
    "# Mask the valid data\n",
    "ndvi = mask_invalid_data(ndvi)\n",
    "# Create a mask for the data with artefacts\n",
    "good_pixels = masking.make_mask(pq, ga_good_pixel=True) \n",
    "# Apply artefact mask\n",
    "ndvi = ndvi.where(good_pixels.pixelquality) \n",
    "\n",
    "# Plot the result\n",
    "ndvi.plot(col='time', col_wrap=5, robust=True, cmap='YlGn') \n",
    "ndvi = None\n",
    "\n",
    "pandas.DataFrame.from_dict(\n",
    "    masking.get_flags_def(pq), \n",
    "    orient='index'\n",
    ")\n"
   ]
  },
  {
   "cell_type": "markdown",
   "metadata": {
    "extensions": {
     "jupyter_dashboards": {
      "version": 1,
      "views": {
       "grid_default": {
        "col": 4,
        "height": 4,
        "hidden": false,
        "row": 186,
        "width": 4
       },
       "report_default": {}
      }
     }
    }
   },
   "source": [
    "Define the spatio-temporal range of interest independent of data storage unit; and define the specific sensor or combination of sensor data to be analysed.\n",
    "\n"
   ]
  },
  {
   "cell_type": "markdown",
   "metadata": {
    "extensions": {
     "jupyter_dashboards": {
      "version": 1,
      "views": {
       "grid_default": {
        "col": 8,
        "height": 4,
        "hidden": false,
        "row": 188,
        "width": 4
       },
       "report_default": {}
      }
     }
    }
   },
   "source": [
    "Define the specific sensor or combination of sensor data to be analysed.\n"
   ]
  },
  {
   "cell_type": "code",
   "execution_count": null,
   "metadata": {
    "collapsed": true,
    "extensions": {
     "jupyter_dashboards": {
      "version": 1,
      "views": {
       "grid_default": {
        "hidden": true
       },
       "report_default": {}
      }
     }
    }
   },
   "outputs": [],
   "source": [
    "multi_sensor_query = {\n",
    "    'time': ('2013-06-01', '2014-01-01'),\n",
    "    'lat': (-35.2, -35.4),\n",
    "    'lon': (149.0, 149.2),\n",
    "}\n",
    "\n",
    "products = ['ls7_nbar_albers', 'ls8_nbar_albers']\n",
    "\n",
    "# Find similarly named measurements\n",
    "measurements = set(dc.index.products.get_by_name(products[0]).measurements.keys())\n",
    "for prod in products[1:]:\n",
    "    measurements.intersection(dc.index.products.get_by_name(products[0]).measurements.keys())\n",
    "\n",
    "datasets = []\n",
    "for prod in products:\n",
    "    ds = dc.load(product=prod, measurements=measurements, **multi_sensor_query)\n",
    "    ds['product'] = ('time', numpy.repeat(prod, ds.time.size))\n",
    "    datasets.append(ds)\n",
    "\n",
    "combined = xarray.concat(datasets, dim='time')\n",
    "combined = combined.isel(time=combined.time.argsort())  # sort along time dim"
   ]
  },
  {
   "cell_type": "code",
   "execution_count": null,
   "metadata": {
    "extensions": {
     "jupyter_dashboards": {
      "version": 1,
      "views": {
       "grid_default": {
        "hidden": true
       },
       "report_default": {}
      }
     }
    }
   },
   "outputs": [],
   "source": [
    "combined.swir1.median(dim='time').plot(col_wrap=5, robust=True, cmap='rainbow')"
   ]
  },
  {
   "cell_type": "markdown",
   "metadata": {
    "extensions": {
     "jupyter_dashboards": {
      "version": 1,
      "views": {
       "grid_default": {
        "col": 4,
        "height": 4,
        "hidden": false,
        "row": 190,
        "width": 4
       },
       "report_default": {}
      }
     }
    }
   },
   "source": [
    "The API will provide a simplified conceptual model for data query and analysis based\n",
    "on an n-dimensional array abstraction;"
   ]
  },
  {
   "cell_type": "code",
   "execution_count": null,
   "metadata": {
    "extensions": {
     "jupyter_dashboards": {
      "version": 1,
      "views": {
       "grid_default": {
        "hidden": true
       },
       "report_default": {}
      }
     }
    }
   },
   "outputs": [],
   "source": [
    "combined.data_vars"
   ]
  },
  {
   "cell_type": "code",
   "execution_count": null,
   "metadata": {
    "collapsed": true
   },
   "outputs": [],
   "source": [
    "combined = None"
   ]
  },
  {
   "cell_type": "markdown",
   "metadata": {
    "extensions": {
     "jupyter_dashboards": {
      "version": 1,
      "views": {
       "grid_default": {
        "col": 8,
        "height": 4,
        "hidden": false,
        "row": 192,
        "width": 4
       },
       "report_default": {}
      }
     }
    }
   },
   "source": [
    "During EDA, lazy evaluation of calculations so only those results that are in use are\n",
    "computed; and"
   ]
  },
  {
   "cell_type": "code",
   "execution_count": null,
   "metadata": {
    "collapsed": true,
    "extensions": {
     "jupyter_dashboards": {
      "version": 1,
      "views": {
       "grid_default": {
        "hidden": true
       },
       "report_default": {}
      }
     }
    }
   },
   "outputs": [],
   "source": [
    "# CSIRO Peter Wang - link to notebook"
   ]
  },
  {
   "cell_type": "markdown",
   "metadata": {
    "extensions": {
     "jupyter_dashboards": {
      "version": 1,
      "views": {
       "grid_default": {
        "col": 4,
        "height": 4,
        "hidden": false,
        "row": 194,
        "width": 4
       },
       "report_default": {}
      }
     }
    }
   },
   "source": [
    "Support for calculations on arrays that are larger than core memory."
   ]
  },
  {
   "cell_type": "code",
   "execution_count": null,
   "metadata": {
    "collapsed": true,
    "extensions": {
     "jupyter_dashboards": {
      "version": 1,
      "views": {
       "grid_default": {
        "hidden": true
       },
       "report_default": {}
      }
     }
    }
   },
   "outputs": [],
   "source": [
    "# Dask Example\n",
    "lazydata = dc.load(\n",
    "    product='ls7_nbart_albers',\n",
    "    longitude=(132.0, 137.0), \n",
    "    latitude=(-20, -25), \n",
    "    time=('2011-6-1', '2011-6-30'),\n",
    "    dask_chunks={'x': 200, 'y': 200, 'time': 5} \n",
    ")"
   ]
  },
  {
   "cell_type": "code",
   "execution_count": null,
   "metadata": {
    "extensions": {
     "jupyter_dashboards": {
      "version": 1,
      "views": {
       "grid_default": {
        "hidden": true
       },
       "report_default": {}
      }
     }
    }
   },
   "outputs": [],
   "source": [
    "from dask.dot import dot_graph\n",
    "\n",
    "dot_graph(lazydata)"
   ]
  },
  {
   "cell_type": "code",
   "execution_count": null,
   "metadata": {},
   "outputs": [],
   "source": [
    "print(lazydata)"
   ]
  },
  {
   "cell_type": "code",
   "execution_count": null,
   "metadata": {
    "extensions": {
     "jupyter_dashboards": {
      "version": 1,
      "views": {
       "grid_default": {
        "hidden": true
       },
       "report_default": {}
      }
     }
    },
    "scrolled": false
   },
   "outputs": [],
   "source": [
    "# If larger than memory will be chunked and run\n",
    "print(lazydata.mean(dim='time'))\n"
   ]
  },
  {
   "cell_type": "code",
   "execution_count": null,
   "metadata": {
    "collapsed": true
   },
   "outputs": [],
   "source": [
    "# Visualise doesn't seem to exist anymore?\n",
    "# lazydata.blue.visualise()"
   ]
  },
  {
   "cell_type": "markdown",
   "metadata": {
    "extensions": {
     "jupyter_dashboards": {
      "version": 1,
      "views": {
       "grid_default": {
        "col": 8,
        "height": 4,
        "hidden": false,
        "row": 196,
        "width": 4
       },
       "report_default": {}
      }
     }
    }
   },
   "source": [
    "Continental scale product generation will be based off the continental workflows from the\n",
    "current ADGC v1 API, however it will be modified to use the version 2 data retrieval\n",
    "mechanism."
   ]
  },
  {
   "cell_type": "code",
   "execution_count": null,
   "metadata": {
    "collapsed": true,
    "extensions": {
     "jupyter_dashboards": {
      "version": 1,
      "views": {
       "grid_default": {
        "hidden": true
       },
       "report_default": {}
      }
     }
    }
   },
   "outputs": [],
   "source": [
    "# See stats, wofs and ingestion"
   ]
  },
  {
   "cell_type": "markdown",
   "metadata": {
    "extensions": {
     "jupyter_dashboards": {
      "version": 1,
      "views": {
       "grid_default": {
        "col": 4,
        "height": 4,
        "hidden": false,
        "row": 198,
        "width": 4
       },
       "report_default": {}
      }
     }
    }
   },
   "source": [
    "The ability to manage results of calculations as a temporary/private data cube for further\n",
    "analysis."
   ]
  },
  {
   "cell_type": "code",
   "execution_count": null,
   "metadata": {
    "collapsed": true,
    "extensions": {
     "jupyter_dashboards": {
      "version": 1,
      "views": {
       "grid_default": {
        "hidden": true
       },
       "report_default": {}
      }
     }
    }
   },
   "outputs": [],
   "source": [
    "# See remote cube example above"
   ]
  },
  {
   "cell_type": "markdown",
   "metadata": {
    "extensions": {
     "jupyter_dashboards": {
      "version": 1,
      "views": {
       "grid_default": {
        "col": 8,
        "height": 4,
        "hidden": false,
        "row": 200,
        "width": 4
       },
       "report_default": {}
      }
     }
    }
   },
   "source": [
    "Web based delivery of products through WMS, WCS, CS/W, OpenDAP services."
   ]
  },
  {
   "cell_type": "code",
   "execution_count": null,
   "metadata": {
    "collapsed": true,
    "extensions": {
     "jupyter_dashboards": {
      "version": 1,
      "views": {
       "grid_default": {
        "hidden": true
       },
       "report_default": {}
      }
     }
    }
   },
   "outputs": [],
   "source": [
    "!firefox http://dapds00.nci.org.au/thredds/catalogs/rs0/catalog.html "
   ]
  },
  {
   "cell_type": "markdown",
   "metadata": {
    "extensions": {
     "jupyter_dashboards": {
      "version": 1,
      "views": {
       "grid_default": {
        "col": 0,
        "height": 4,
        "hidden": false,
        "row": 903,
        "width": 12
       },
       "report_default": {}
      }
     }
    }
   },
   "source": [
    "Basic provenance that records information about an analysis result/product such as what\n",
    "datasets, software version, ancillary data and algorithm was used to produce the product.\n",
    "Wherever possible, Version 2 will adopt and adapt existing software, services and standards."
   ]
  },
  {
   "cell_type": "code",
   "execution_count": null,
   "metadata": {
    "collapsed": true,
    "extensions": {
     "jupyter_dashboards": {
      "version": 1,
      "views": {
       "grid_default": {
        "hidden": true
       },
       "report_default": {}
      }
     }
    }
   },
   "outputs": [],
   "source": [
    "#combined.variables"
   ]
  },
  {
   "cell_type": "code",
   "execution_count": null,
   "metadata": {
    "collapsed": true,
    "extensions": {
     "jupyter_dashboards": {
      "version": 1,
      "views": {
       "grid_default": {
        "hidden": true
       },
       "report_default": {}
      }
     }
    }
   },
   "outputs": [],
   "source": [
    "# See sources example above "
   ]
  },
  {
   "cell_type": "markdown",
   "metadata": {
    "extensions": {
     "jupyter_dashboards": {
      "version": 1,
      "views": {
       "grid_default": {
        "col": 0,
        "height": 6,
        "hidden": false,
        "row": 907,
        "width": 12
       },
       "report_default": {}
      }
     }
    }
   },
   "source": [
    "## Other Requirements\n",
    "### The Project Plan will be supported by:\n",
    " A transition plan and timetable for moving AGDC production from Version 1 to Version 2 of\n",
    "the AGDC (including controlled updates to data collections that are already accessible via\n",
    "RDS);"
   ]
  },
  {
   "cell_type": "code",
   "execution_count": null,
   "metadata": {
    "collapsed": true,
    "extensions": {
     "jupyter_dashboards": {
      "version": 1,
      "views": {
       "grid_default": {
        "hidden": true
       },
       "report_default": {}
      }
     }
    }
   },
   "outputs": [],
   "source": [
    "!firefox http://dapds00.nci.org.au/thredds/catalogs/rs0/catalog.html "
   ]
  },
  {
   "cell_type": "markdown",
   "metadata": {
    "extensions": {
     "jupyter_dashboards": {
      "version": 1,
      "views": {
       "grid_default": {
        "col": 4,
        "height": 4,
        "hidden": false,
        "row": 202,
        "width": 4
       },
       "report_default": {}
      }
     }
    }
   },
   "source": [
    "A software release and management plan;"
   ]
  },
  {
   "cell_type": "markdown",
   "metadata": {
    "extensions": {
     "jupyter_dashboards": {
      "version": 1,
      "views": {
       "grid_default": {
        "col": 0,
        "height": 10,
        "hidden": false,
        "row": 913,
        "width": 12
       },
       "report_default": {}
      }
     }
    }
   },
   "source": [
    "Approved by Robert Woodcock, Matt Paget and Simon Oliver 19/01/2016\n",
    "\n",
    "1.\tDevelop branch - aim is to have this not broken - integration tests should enforce expected functionality on this branch \n",
    "a.\tintegration tests are trying to enforce this\n",
    "b.\tDevelop is the main collaboration branch\n",
    "i.\tTo discourage keeping feature branches separate for too long - small incremental improvements are better\n",
    "2.\tMaster to be replaced with git tagged releases (these should not deviate greatly from develop)\n",
    "a.\tThe process to get to release could be :\n",
    "i.\tDecide when develop is feature complete\n",
    "ii.\tBranch it to a release candidate\n",
    "iii.\tTest the release candidate (manual - apply patches as needed to branch)\n",
    "iv.\tTag release\n",
    "3.\tContinuous integration tests are run on every checkin to check core functionality- currently includes all of the ingestion code - in the process of extending to include storage access.\n",
    "a.\tTo merge in a feature branch it should include any relevant tests.\n",
    "4.\tPersistent demo environment to be set up on Raijin with major changes going in - accessible to NCI/CSIRO and GA - only updated when we are going to do a release i.e. against the release candidate (as a final check)\n",
    "a.\tAim to have pushbutton releases to raijin (nightly build)\n",
    "5.\tWe should be doing user acceptance tests also and need to agree on what this looks like prior to approving a release.  \n"
   ]
  },
  {
   "cell_type": "markdown",
   "metadata": {
    "extensions": {
     "jupyter_dashboards": {
      "version": 1,
      "views": {
       "grid_default": {
        "col": 0,
        "height": 4,
        "hidden": false,
        "row": 923,
        "width": 12
       },
       "report_default": {}
      }
     }
    }
   },
   "source": [
    "A plan for improving the data management of the collections in the RDS Landsat (rs0) and\n",
    "WOfs (fk4) Projects, such as establishing data layout, appropriate access controls (including\n",
    "read/write permissions) and alignment to existing organisational data libraries);\n",
    " Reformatting of all data in projects rs0 (Landsat) and fk4 (WOfS) that are currently stored in\n",
    "GeoTIFF into netCDF4-CF;"
   ]
  },
  {
   "cell_type": "code",
   "execution_count": null,
   "metadata": {
    "collapsed": true,
    "extensions": {
     "jupyter_dashboards": {
      "version": 1,
      "views": {
       "grid_default": {
        "hidden": true
       },
       "report_default": {}
      }
     }
    }
   },
   "outputs": [],
   "source": []
  },
  {
   "cell_type": "markdown",
   "metadata": {
    "extensions": {
     "jupyter_dashboards": {
      "version": 1,
      "views": {
       "grid_default": {
        "col": 8,
        "height": 4,
        "hidden": false,
        "row": 204,
        "width": 4
       },
       "report_default": {}
      }
     }
    }
   },
   "source": [
    "An AGDC database API which can provide a base for further AGDC developments and that can\n",
    "accommodate updates in the internal structure of netCDF4-CF;"
   ]
  },
  {
   "cell_type": "code",
   "execution_count": null,
   "metadata": {
    "collapsed": true,
    "extensions": {
     "jupyter_dashboards": {
      "version": 1,
      "views": {
       "grid_default": {
        "hidden": true
       },
       "report_default": {}
      }
     }
    }
   },
   "outputs": [],
   "source": [
    "# Looks like a good base? Not sure what update to internal structure in NetCDF actually means..."
   ]
  },
  {
   "cell_type": "markdown",
   "metadata": {
    "extensions": {
     "jupyter_dashboards": {
      "version": 1,
      "views": {
       "grid_default": {
        "col": 0,
        "height": 4,
        "hidden": false,
        "row": 927,
        "width": 12
       },
       "report_default": {}
      }
     }
    }
   },
   "source": [
    "Upgrading all documentation (including Data Management Plans, Product Specifications, etc.)\n",
    "and ensuring that any Metadata is compliant with the requirements of the Australian\n",
    "Government Spatial Data Policies and Directives, the Australian National Data Service and\n",
    "data.gov.au; and"
   ]
  },
  {
   "cell_type": "code",
   "execution_count": null,
   "metadata": {
    "collapsed": true,
    "extensions": {
     "jupyter_dashboards": {
      "version": 1,
      "views": {
       "grid_default": {
        "hidden": true
       },
       "report_default": {}
      }
     }
    }
   },
   "outputs": [],
   "source": [
    "# "
   ]
  },
  {
   "cell_type": "markdown",
   "metadata": {
    "extensions": {
     "jupyter_dashboards": {
      "version": 1,
      "views": {
       "grid_default": {
        "col": 4,
        "height": 4,
        "hidden": false,
        "row": 206,
        "width": 4
       },
       "report_default": {}
      }
     }
    }
   },
   "source": [
    " \n",
    "\n",
    "\n"
   ]
  },
  {
   "cell_type": "markdown",
   "metadata": {
    "extensions": {
     "jupyter_dashboards": {
      "version": 1,
      "views": {
       "grid_default": {
        "col": 8,
        "height": 4,
        "hidden": false,
        "row": 208,
        "width": 4
       },
       "report_default": {}
      }
     }
    }
   },
   "source": [
    "Benchmarks and Quality Assurance tests to validate the quality of the access that is required\n",
    "by the agreed use-cases."
   ]
  },
  {
   "cell_type": "code",
   "execution_count": null,
   "metadata": {
    "extensions": {
     "jupyter_dashboards": {
      "version": 1,
      "views": {
       "grid_default": {
        "hidden": true
       },
       "report_default": {}
      }
     }
    }
   },
   "outputs": [],
   "source": [
    "notebook_end_dt = datetime.now()\n",
    "'Finished in {}'.format(notebook_end_dt - notebook_start_dt)"
   ]
  },
  {
   "cell_type": "code",
   "execution_count": null,
   "metadata": {
    "collapsed": true
   },
   "outputs": [],
   "source": []
  }
 ],
 "metadata": {
  "anaconda-cloud": {},
  "extensions": {
   "jupyter_dashboards": {
    "activeView": "grid_default",
    "version": 1,
    "views": {
     "grid_default": {
      "cellMargin": 10,
      "defaultCellHeight": 20,
      "maxColumns": 12,
      "name": "grid",
      "type": "grid"
     },
     "report_default": {
      "name": "report",
      "type": "report"
     }
    }
   }
  },
  "kernelspec": {
   "display_name": "Python 3",
   "language": "python",
   "name": "python3"
  },
  "language_info": {
   "codemirror_mode": {
    "name": "ipython",
    "version": 3
   },
   "file_extension": ".py",
   "mimetype": "text/x-python",
   "name": "python",
   "nbconvert_exporter": "python",
   "pygments_lexer": "ipython3",
   "version": "3.6.4"
  }
 },
 "nbformat": 4,
 "nbformat_minor": 2
}
