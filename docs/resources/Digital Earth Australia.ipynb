{
 "cells": [
  {
   "cell_type": "markdown",
   "metadata": {},
   "source": [
    "![Digital Earth Australia Logo](http://www.ga.gov.au/__data/assets/image/0007/49534/DEA-Logo-Inline.png)"
   ]
  },
  {
   "cell_type": "markdown",
   "metadata": {},
   "source": [
    "# Digital Earth Australia\n",
    "## Introduction to Jupyter Notebooks\n",
    "\n",
    "You can view the list of notebooks by selecting **[File -> Open...](/)** from the menu above.\n",
    "\n",
    "To create a new notebook of your own, select **File -> New Notebook -> Python 3**"
   ]
  },
  {
   "cell_type": "markdown",
   "metadata": {},
   "source": [
    "### Python cells\n",
    "\n",
    "Select a cell by clicking it (so that a border appears around it), or by using the arrow keys.\n",
    "\n",
    "To run a cell, click the button with the <i class='fa-step-forward fa'></i> symbol, or press **`Shift+Enter`**.\n",
    "\n",
    "The cell will be run, and the next cell will be selected."
   ]
  },
  {
   "cell_type": "code",
   "execution_count": 6,
   "metadata": {},
   "outputs": [
    {
     "data": {
      "text/plain": [
       "13"
      ]
     },
     "execution_count": 6,
     "metadata": {},
     "output_type": "execute_result"
    }
   ],
   "source": [
    "x = 3\n",
    "x + 10"
   ]
  },
  {
   "cell_type": "markdown",
   "metadata": {},
   "source": [
    "The value of the last line of code will be output below the cell when you run it, as above.\n",
    "\n",
    "You can also use the **`print`** function:"
   ]
  },
  {
   "cell_type": "code",
   "execution_count": 7,
   "metadata": {},
   "outputs": [
    {
     "name": "stdout",
     "output_type": "stream",
     "text": [
      "The value of x is 3\n"
     ]
    }
   ],
   "source": [
    "print('The value of x is', x)"
   ]
  },
  {
   "cell_type": "markdown",
   "metadata": {},
   "source": [
    "### Running linux shell commands\n",
    "We can run shell commands by starting the cell with \"`!`\".\n",
    "\n",
    "To print the current working dircetory, we can run the `pwd` command:"
   ]
  },
  {
   "cell_type": "code",
   "execution_count": 8,
   "metadata": {},
   "outputs": [
    {
     "name": "stdout",
     "output_type": "stream",
     "text": [
      "/home/547/adh547/notebooks\r\n"
     ]
    }
   ],
   "source": [
    "!pwd"
   ]
  },
  {
   "cell_type": "markdown",
   "metadata": {},
   "source": [
    "### Copy example notebooks\n",
    "\n",
    "We can copy the library of example notebooks to our home folder, so that we can modify them:\n",
    "\n",
    "(Note: The following command will not overwrite any changes you have made to previously copied notebooks.)"
   ]
  },
  {
   "cell_type": "code",
   "execution_count": 9,
   "metadata": {
    "collapsed": true
   },
   "outputs": [],
   "source": [
    "!rsync --ignore-existing --recursive /g/data/v10/public/agdcv2_summary/ ~/dea_notebooks/"
   ]
  },
  {
   "cell_type": "code",
   "execution_count": 10,
   "metadata": {},
   "outputs": [
    {
     "name": "stdout",
     "output_type": "stream",
     "text": [
      "total 1228\r\n",
      "drwxr-xr-x  3 adh547 u46     101 Jun 14 14:52 .\r\n",
      "drwx------ 59 adh547 GA     4096 Jun 14 14:40 ..\r\n",
      "-rw-r-xr--  1 adh547 u46 1137865 Jun 14 14:40 Datacube_Summary.ipynb\r\n",
      "-rw-r-xr--  1 adh547 u46  102315 Jun 14 14:52 interactive.ipynb\r\n",
      "drwxr-xr-x  2 adh547 u46     109 Jun 14 14:40 .ipynb_checkpoints\r\n",
      "-rw-r-xr--  1 adh547 u46    5476 Jun 14 14:40 UUID.ipynb\r\n"
     ]
    }
   ],
   "source": [
    "!ls -la ~/dea_notebooks/"
   ]
  },
  {
   "cell_type": "markdown",
   "metadata": {},
   "source": [
    "### Disk quota\n",
    "On VDI, you have a quota on your home directory of 2GB (2048M).  If you go over your quota, you will not be able to save files, and will be unable to start a new VDI session until you remove files described in https://vdi.nci.org.au/help\n",
    "\n",
    "You can check your usage by running the following command:"
   ]
  },
  {
   "cell_type": "code",
   "execution_count": 63,
   "metadata": {},
   "outputs": [
    {
     "name": "stdout",
     "output_type": "stream",
     "text": [
      "Disk quotas for user adh547 (uid 10169): \r\n",
      "     Filesystem  blocks   quota   limit   grace   files   quota   limit   grace\r\n",
      "vdi-fs1.z48:/home/\r\n",
      "                  1523M       0   2048M           47450       0    100k        \r\n"
     ]
    }
   ],
   "source": [
    "!quota -s -f /home"
   ]
  },
  {
   "cell_type": "markdown",
   "metadata": {},
   "source": [
    "### Transfering Files\n",
    "\n",
    "To transfer files to and from your VDI home dircetory, you can use a SFTP client like [Filezilla](https://filezilla-project.org/) to connect to **`vdi-sftp.nci.org.au`**."
   ]
  }
 ],
 "metadata": {
  "kernelspec": {
   "display_name": "Python 3",
   "language": "python",
   "name": "python3"
  },
  "language_info": {
   "codemirror_mode": {
    "name": "ipython",
    "version": 3.0
   },
   "file_extension": ".py",
   "mimetype": "text/x-python",
   "name": "python",
   "nbconvert_exporter": "python",
   "pygments_lexer": "ipython3",
   "version": "3.6.1"
  }
 },
 "nbformat": 4,
 "nbformat_minor": 0
}