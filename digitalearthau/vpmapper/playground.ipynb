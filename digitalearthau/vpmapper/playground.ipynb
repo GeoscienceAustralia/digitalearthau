{
 "cells": [
  {
   "cell_type": "code",
   "execution_count": 2,
   "metadata": {
    "collapsed": true,
    "pycharm": {
     "is_executing": false
    }
   },
   "outputs": [],
   "source": [
    "\n",
    "from datacube import Datacube\n",
    "dc = Datacube()"
   ]
  },
  {
   "cell_type": "code",
   "execution_count": 3,
   "outputs": [
    {
     "data": {
      "text/plain": "<generator object DatasetResource.search at 0x000001B86790D410>"
     },
     "metadata": {},
     "output_type": "execute_result",
     "execution_count": 3
    }
   ],
   "source": [
    "\n",
    "datasets = dc.index.datasets.search(limit=3, product='ls8_nbart_albers')\n",
    "datasets"
   ],
   "metadata": {
    "collapsed": false,
    "pycharm": {
     "name": "#%%\n",
     "is_executing": false
    }
   }
  },
  {
   "cell_type": "code",
   "execution_count": 4,
   "outputs": [
    {
     "data": {
      "text/plain": "[Dataset <id=7a383ae7-8bc4-47c4-8294-804856799481 type=ls8_nbart_albers location=file:///g/data/rs0/datacube/002/LS8_OLI_NBART/-15_-41/LS8_OLI_NBART_3577_-15_-41_20190525020008500000_v1560314405.nc>,\n Dataset <id=eade080b-c2be-4012-9015-ed1806270cda type=ls8_nbart_albers location=file:///g/data/rs0/datacube/002/LS8_OLI_NBART/-6_-31/LS8_OLI_NBART_3577_-6_-31_20190529013304000000_v1560314405.nc>,\n Dataset <id=8ba4ccda-4060-431d-bb45-a4ffd8fcb658 type=ls8_nbart_albers location=file:///g/data/rs0/datacube/002/LS8_OLI_NBART/6_-40/LS8_OLI_NBART_3577_6_-40_20190601002730000000_v1560314405.nc>]"
     },
     "metadata": {},
     "output_type": "execute_result",
     "execution_count": 4
    }
   ],
   "source": [
    "list(datasets)"
   ],
   "metadata": {
    "collapsed": false,
    "pycharm": {
     "name": "#%%\n",
     "is_executing": false
    }
   }
  },
  {
   "cell_type": "code",
   "execution_count": null,
   "outputs": [],
   "source": [
    "\n"
   ],
   "metadata": {
    "collapsed": false,
    "pycharm": {
     "name": "#%%\n"
    }
   }
  }
 ],
 "metadata": {
  "language_info": {
   "codemirror_mode": {
    "name": "ipython",
    "version": 2
   },
   "file_extension": ".py",
   "mimetype": "text/x-python",
   "name": "python",
   "nbconvert_exporter": "python",
   "pygments_lexer": "ipython2",
   "version": "2.7.6"
  },
  "kernelspec": {
   "name": "pycharm-b034ca23",
   "language": "python",
   "display_name": "PyCharm (digitalearthau)"
  },
  "pycharm": {
   "stem_cell": {
    "cell_type": "raw",
    "source": [],
    "metadata": {
     "collapsed": false
    }
   }
  }
 },
 "nbformat": 4,
 "nbformat_minor": 0
}